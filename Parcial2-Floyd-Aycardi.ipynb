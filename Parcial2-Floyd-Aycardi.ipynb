{
  "nbformat": 4,
  "nbformat_minor": 0,
  "metadata": {
    "colab": {
      "provenance": []
    },
    "kernelspec": {
      "name": "python3",
      "display_name": "Python 3"
    },
    "language_info": {
      "name": "python"
    },
    "accelerator": "GPU",
    "gpuClass": "standard"
  },
  "cells": [
    {
      "cell_type": "markdown",
      "source": [
        "# Parcial 2. Clasificación de imágenes a partir de redes Convolucionales.\n",
        "\n",
        "En esta actividad se aborda el problema de la clasificación de imágenes utilizando la base de datos CIFAR-10 (https://www.cs.toronto.edu/~kriz/cifar.html). Cada grupo de trabajo deberá diseñar y ejecutar una solución basada en redes neuronales convolucionales. Se considerarán dos aspectos principales para la evaluación del trabajo:\n",
        "\n",
        "1. Planeación: antes de comenzar a diseñar cualquier modelo, cada grupo debe describir detalladamente la solución que plantea. Es importante que se justifiquen todas las decisiones tomadas (por ejemplo, la función de costo y la función de activación en la capa de salida). Además, se deben tener en cuenta características como el tipo de imágenes (a color), la cantidad de datos en el conjunto de entrenamiento y la cantidad de clases. Este elemento representa el 30% de la nota.\n",
        "\n",
        "2. Ejecución: una vez descrita la solución propuesta, se procede a su implementación. Cada grupo debe asegurarse de que la implementación siga fielmente lo descrito en la propuesta, y justificar cualquier cambio que se realice en la ejecución. Este elemento representa el 70% de la nota.\n",
        "\n",
        "\n",
        "Es importante destacar que las decisiones tomadas en la planeación que no estén debidamente justificadas pueden afectar la nota de ambos elementos.\n",
        "\n",
        "¡Buena suerte!\n",
        "\n"
      ],
      "metadata": {
        "id": "4DGJYjCFeQ6P"
      }
    },
    {
      "cell_type": "code",
      "source": [
        "from keras.datasets import cifar10\n",
        "from keras.models import Sequential\n",
        "from keras.layers import Conv2D, MaxPooling2D, Flatten, Dense\n",
        "from keras.utils import to_categorical\n",
        "\n",
        "# Load the CIFAR-10 dataset\n",
        "(X_train, y_train), (X_test, y_test) = cifar10.load_data()\n",
        "\n",
        "# Preprocess the data\n",
        "X_train = X_train / 255.0\n",
        "X_test = X_test / 255.0"
      ],
      "metadata": {
        "id": "mF818vI8YvSc",
        "colab": {
          "base_uri": "https://localhost:8080/"
        },
        "outputId": "4cdacd2a-1432-4b89-dc60-2f4a0b0f00df"
      },
      "execution_count": 1,
      "outputs": [
        {
          "output_type": "stream",
          "name": "stdout",
          "text": [
            "Downloading data from https://www.cs.toronto.edu/~kriz/cifar-10-python.tar.gz\n",
            "170498071/170498071 [==============================] - 6s 0us/step\n"
          ]
        }
      ]
    },
    {
      "cell_type": "code",
      "source": [
        "print('forma dataset prueba: {}'.format(X_train.shape))\n",
        "print('forma dataset test: {}'.format(X_test.shape))"
      ],
      "metadata": {
        "colab": {
          "base_uri": "https://localhost:8080/"
        },
        "id": "XO8NVXrXbh3X",
        "outputId": "d0e3c850-9451-4780-9545-13bb06661d21"
      },
      "execution_count": 2,
      "outputs": [
        {
          "output_type": "stream",
          "name": "stdout",
          "text": [
            "forma dataset prueba: (50000, 32, 32, 3)\n",
            "forma dataset test: (10000, 32, 32, 3)\n"
          ]
        }
      ]
    },
    {
      "cell_type": "markdown",
      "source": [
        "# 1. Planeación\n",
        "\n",
        "# **Datos:**\n",
        "Antes de empezar a la aclaracion sobre el modelo que se piensa usar, lo primero es que a las imagenes que pertenecen al dataset que se va aprobar en este modelo, es que se le debe hacer un reshape() para considerar que la imagen es a color y asi se va a tener en cuenta el RGB.\n",
        "\n",
        "Se necesitan 3 dimensiones para tener en cuenta el RGB.\n",
        "\n",
        "# **¿Que tipo de aprendizaje vamos a usar?**\n",
        "Se va tomar la decision de tener una red neuronal creada por nosotros mismos para que de esta manera, se evite un sobre ajuste gracias al tamaño de los datos y tambien se tomo esta decision gracias a la forma en que estan organizados los datos.\n",
        "\n",
        "# **Justificacion y creacion de la red neuronal:**\n",
        "En filters se va a tomar como 32 ya que es el numero que se evidencio un comportamiento promedio, es decir, se estabiliza con respecto a numeros muy pequeños o grandes.\n",
        "\n",
        "tamaño de de la imagen (kernel size) se tomo como (3,3) ya que gracias a diferentes pruebas se evidencio que para este tamaño de imagenes, era la dimension correcta.\n",
        "\n",
        "Se va atomar como decision usar strides = (1,1) ya que esta es la forma en como se va a recorrer la imagen y de esta forma lograriamos recorrer la iamgen completa sin tener saltos y sin perder informacion.\n",
        "\n",
        "Se va a tomar como decision usar un padding de same ya que no queremos que la imagen pierda su tamaño original.\n",
        "\n",
        "Se va a tomar como optimizador adam, ya que tiene en cuenta los valores que ha conseguido anteriormente y esto ayuda a que si los tienen en cuenta, va a obtener un mejor valor global y de esta manera, la red tenga un mejor rendimiento.\n",
        "\n",
        "Se usa funcion de activacion Relu ya que gracias a esta el algoritmo sea mucho más rapido y es mucho mas probable que encuentre la convergencia del algoritmo gradiente desenciente. \n",
        "\n",
        "Input shape es el tamaño de las imagenes adecuado, segun el dataset de este examen.\n",
        "\n",
        "Se decide tomar la decision de hacer max pooling ya que esto simplifica un poco los calculos que hace nuestra red cnn.\n",
        "\n",
        "Una capa de flatten ya que se se necesita trnasformar todo a una sola dimension.\n",
        "\n",
        "dropout, para evitar un sobre ajuste, y este valor es promedio, es decir, se estabiliza entre un numero muy pequeño y uno muy alto.\n",
        "\n",
        "La ultima capa de nuestra red neuronal usa softmax, ya que es una generalizacion de la funcion sigmoidal y es util pra las tareas de justificacion con multiples clases."
      ],
      "metadata": {
        "id": "gDxN54cdjWKO"
      }
    },
    {
      "cell_type": "markdown",
      "source": [
        "# 2. Implementación"
      ],
      "metadata": {
        "id": "6VvIiBSOjg8o"
      }
    },
    {
      "cell_type": "code",
      "source": [
        "import tensorflow as tf\n",
        "from tensorflow import keras"
      ],
      "metadata": {
        "id": "U3n7uo0_bh8e"
      },
      "execution_count": 3,
      "outputs": []
    },
    {
      "cell_type": "code",
      "source": [
        "X_train = X_train.reshape(-1, 32, 32, 3)\n",
        "X_test = X_test.reshape(-1, 32, 32, 3)"
      ],
      "metadata": {
        "id": "PCvdQ280yECv"
      },
      "execution_count": 4,
      "outputs": []
    },
    {
      "cell_type": "code",
      "source": [
        "model = keras.Sequential([\n",
        "    keras.layers.Conv2D(filters = 32, kernel_size = (3, 3), padding=\"same\", \n",
        "                        strides=(1, 1), activation='relu',input_shape=(32, 32, 3)),\n",
        "\n",
        "    keras.layers.MaxPooling2D(pool_size =(2, 2), strides=(2, 2)),\n",
        "\n",
        "    keras.layers.Conv2D(filters = 64, kernel_size = (3, 3), padding=\"same\",\n",
        "                        strides=(1, 1), activation='relu'),\n",
        "    keras.layers.MaxPooling2D(pool_size =(2, 2), strides=(2, 2)),\n",
        "\n",
        "    keras.layers.Flatten(),\n",
        "\n",
        "    keras.layers.Dropout(0.5),\n",
        "\n",
        "    keras.layers.Dense(10, activation='softmax')\n",
        "])"
      ],
      "metadata": {
        "id": "-mlezEoXyIId"
      },
      "execution_count": 9,
      "outputs": []
    },
    {
      "cell_type": "code",
      "source": [
        "optimizer = tf.keras.optimizers.Adam(0.001)\n",
        "optimizer.learning_rate.assign(0.004)\n",
        "\n",
        "model.compile(optimizer='adam', loss='sparse_categorical_crossentropy', metrics=['accuracy'])\n",
        "\n",
        "print(optimizer.learning_rate)\n",
        "history = model.fit(X_train,\n",
        "                    y_train,\n",
        "                    epochs=30,\n",
        "                    batch_size=32,\n",
        "                    validation_data=(X_test, y_test))\n",
        "\n",
        "test_loss, test_acc = model.evaluate(X_test, y_test, verbose=2)\n",
        "print('Test accuracy:', test_acc)"
      ],
      "metadata": {
        "colab": {
          "base_uri": "https://localhost:8080/"
        },
        "id": "F-cjhNFYyMWQ",
        "outputId": "9f63f813-886e-46c5-fd53-9c3ac33f0bd9"
      },
      "execution_count": 10,
      "outputs": [
        {
          "output_type": "stream",
          "name": "stdout",
          "text": [
            "<tf.Variable 'learning_rate:0' shape=() dtype=float32, numpy=0.004>\n",
            "Epoch 1/30\n",
            "1563/1563 [==============================] - 9s 5ms/step - loss: 1.5290 - accuracy: 0.4526 - val_loss: 1.2148 - val_accuracy: 0.5758\n",
            "Epoch 2/30\n",
            "1563/1563 [==============================] - 8s 5ms/step - loss: 1.2180 - accuracy: 0.5733 - val_loss: 1.0782 - val_accuracy: 0.6263\n",
            "Epoch 3/30\n",
            "1563/1563 [==============================] - 7s 5ms/step - loss: 1.0895 - accuracy: 0.6201 - val_loss: 0.9539 - val_accuracy: 0.6738\n",
            "Epoch 4/30\n",
            "1563/1563 [==============================] - 7s 5ms/step - loss: 1.0223 - accuracy: 0.6432 - val_loss: 0.9602 - val_accuracy: 0.6682\n",
            "Epoch 5/30\n",
            "1563/1563 [==============================] - 7s 5ms/step - loss: 0.9733 - accuracy: 0.6593 - val_loss: 0.8915 - val_accuracy: 0.6964\n",
            "Epoch 6/30\n",
            "1563/1563 [==============================] - 6s 4ms/step - loss: 0.9311 - accuracy: 0.6731 - val_loss: 0.8775 - val_accuracy: 0.6977\n",
            "Epoch 7/30\n",
            "1563/1563 [==============================] - 8s 5ms/step - loss: 0.9021 - accuracy: 0.6853 - val_loss: 0.8647 - val_accuracy: 0.7053\n",
            "Epoch 8/30\n",
            "1563/1563 [==============================] - 7s 4ms/step - loss: 0.8795 - accuracy: 0.6920 - val_loss: 0.8472 - val_accuracy: 0.7123\n",
            "Epoch 9/30\n",
            "1563/1563 [==============================] - 7s 5ms/step - loss: 0.8601 - accuracy: 0.7006 - val_loss: 0.8138 - val_accuracy: 0.7145\n",
            "Epoch 10/30\n",
            "1563/1563 [==============================] - 7s 5ms/step - loss: 0.8401 - accuracy: 0.7068 - val_loss: 0.8202 - val_accuracy: 0.7178\n",
            "Epoch 11/30\n",
            "1563/1563 [==============================] - 7s 4ms/step - loss: 0.8270 - accuracy: 0.7120 - val_loss: 0.8043 - val_accuracy: 0.7231\n",
            "Epoch 12/30\n",
            "1563/1563 [==============================] - 7s 5ms/step - loss: 0.8156 - accuracy: 0.7167 - val_loss: 0.8130 - val_accuracy: 0.7190\n",
            "Epoch 13/30\n",
            "1563/1563 [==============================] - 7s 5ms/step - loss: 0.7991 - accuracy: 0.7194 - val_loss: 0.7903 - val_accuracy: 0.7275\n",
            "Epoch 14/30\n",
            "1563/1563 [==============================] - 7s 4ms/step - loss: 0.7909 - accuracy: 0.7237 - val_loss: 0.7825 - val_accuracy: 0.7308\n",
            "Epoch 15/30\n",
            "1563/1563 [==============================] - 6s 4ms/step - loss: 0.7746 - accuracy: 0.7301 - val_loss: 0.7902 - val_accuracy: 0.7308\n",
            "Epoch 16/30\n",
            "1563/1563 [==============================] - 7s 5ms/step - loss: 0.7652 - accuracy: 0.7298 - val_loss: 0.7903 - val_accuracy: 0.7339\n",
            "Epoch 17/30\n",
            "1563/1563 [==============================] - 7s 5ms/step - loss: 0.7678 - accuracy: 0.7320 - val_loss: 0.7852 - val_accuracy: 0.7342\n",
            "Epoch 18/30\n",
            "1563/1563 [==============================] - 7s 4ms/step - loss: 0.7564 - accuracy: 0.7365 - val_loss: 0.7724 - val_accuracy: 0.7342\n",
            "Epoch 19/30\n",
            "1563/1563 [==============================] - 7s 5ms/step - loss: 0.7494 - accuracy: 0.7381 - val_loss: 0.7814 - val_accuracy: 0.7304\n",
            "Epoch 20/30\n",
            "1563/1563 [==============================] - 6s 4ms/step - loss: 0.7375 - accuracy: 0.7405 - val_loss: 0.7397 - val_accuracy: 0.7455\n",
            "Epoch 21/30\n",
            "1563/1563 [==============================] - 7s 5ms/step - loss: 0.7372 - accuracy: 0.7412 - val_loss: 0.7644 - val_accuracy: 0.7390\n",
            "Epoch 22/30\n",
            "1563/1563 [==============================] - 7s 5ms/step - loss: 0.7242 - accuracy: 0.7466 - val_loss: 0.7672 - val_accuracy: 0.7402\n",
            "Epoch 23/30\n",
            "1563/1563 [==============================] - 7s 5ms/step - loss: 0.7222 - accuracy: 0.7482 - val_loss: 0.7727 - val_accuracy: 0.7368\n",
            "Epoch 24/30\n",
            "1563/1563 [==============================] - 7s 5ms/step - loss: 0.7193 - accuracy: 0.7476 - val_loss: 0.7345 - val_accuracy: 0.7488\n",
            "Epoch 25/30\n",
            "1563/1563 [==============================] - 7s 5ms/step - loss: 0.7091 - accuracy: 0.7529 - val_loss: 0.7525 - val_accuracy: 0.7444\n",
            "Epoch 26/30\n",
            "1563/1563 [==============================] - 8s 5ms/step - loss: 0.7097 - accuracy: 0.7517 - val_loss: 0.7357 - val_accuracy: 0.7478\n",
            "Epoch 27/30\n",
            "1563/1563 [==============================] - 7s 5ms/step - loss: 0.7044 - accuracy: 0.7523 - val_loss: 0.7732 - val_accuracy: 0.7374\n",
            "Epoch 28/30\n",
            "1563/1563 [==============================] - 8s 5ms/step - loss: 0.6988 - accuracy: 0.7550 - val_loss: 0.7340 - val_accuracy: 0.7531\n",
            "Epoch 29/30\n",
            "1563/1563 [==============================] - 7s 4ms/step - loss: 0.6966 - accuracy: 0.7537 - val_loss: 0.7568 - val_accuracy: 0.7402\n",
            "Epoch 30/30\n",
            "1563/1563 [==============================] - 8s 5ms/step - loss: 0.6911 - accuracy: 0.7551 - val_loss: 0.7388 - val_accuracy: 0.7481\n",
            "313/313 - 1s - loss: 0.7388 - accuracy: 0.7481 - 641ms/epoch - 2ms/step\n",
            "Test accuracy: 0.7480999827384949\n"
          ]
        }
      ]
    },
    {
      "cell_type": "code",
      "source": [
        "import matplotlib.pyplot as plt\n",
        "def evaluate(model, history):\n",
        "    # Se evalúa el accuracy del modelo tanto en el conjunto de entrenamiento como \n",
        "    # en el de prueba.\n",
        "    _, train_accuracy = model.evaluate(X_train, y_train)\n",
        "    _, test_accuracy = model.evaluate(X_test, y_test)\n",
        "\n",
        "    print(f\"Trainining accuracy: {train_accuracy:.2f}\")\n",
        "    print(f\"Testing accuracy: {test_accuracy:.2f}\")\n",
        "\n",
        "    # Se grafica la función de costo para los conjuntos de entrenamiento y \n",
        "    # prueba.\n",
        "    plt.figure(figsize=(4, 3), dpi=160)\n",
        "\n",
        "    plt.plot(history.history[\"loss\"], label=\"train\")\n",
        "    plt.plot(history.history[\"val_loss\"], label=\"test\")\n",
        "    plt.legend()\n",
        "    plt.show()\n",
        "evaluate(model, history)"
      ],
      "metadata": {
        "colab": {
          "base_uri": "https://localhost:8080/",
          "height": 523
        },
        "id": "JpTaPWTsySzK",
        "outputId": "1f68ad9c-e1fa-4d41-bc51-3e0dc234c44d"
      },
      "execution_count": 11,
      "outputs": [
        {
          "output_type": "stream",
          "name": "stdout",
          "text": [
            "1563/1563 [==============================] - 4s 3ms/step - loss: 0.4974 - accuracy: 0.8342\n",
            "313/313 [==============================] - 1s 3ms/step - loss: 0.7388 - accuracy: 0.7481\n",
            "Trainining accuracy: 0.83\n",
            "Testing accuracy: 0.75\n"
          ]
        },
        {
          "output_type": "display_data",
          "data": {
            "text/plain": [
              "<Figure size 640x480 with 1 Axes>"
            ],
            "image/png": "[encoded data removed]"
          },
          "metadata": {}
        }
      ]
    }
  ]
}