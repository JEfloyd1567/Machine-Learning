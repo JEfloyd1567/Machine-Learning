{
  "cells": [
    {
      "cell_type": "markdown",
      "metadata": {
        "id": "view-in-github",
        "colab_type": "text"
      },
      "source": [
        "<a href=\"https://colab.research.google.com/github/JEfloyd1567/Calculadora-react/blob/master/tratamientoAlDataSetyRegresionLogistica.ipynb\" target=\"_parent\"><img src=\"https://colab.research.google.com/assets/colab-badge.svg\" alt=\"Open In Colab\"/></a>"
      ]
    },
    {
      "cell_type": "markdown",
      "metadata": {
        "id": "Z45tbicbpBPe"
      },
      "source": [
        "# Práctica 1\n",
        "\n",
        "Conociendo los datos con los que vamos a trabajar.\n",
        "Antes de comenzar incluso a preprocesar los datos, debemos conocer las características del conjunto de datos que tenemos.\n",
        "\n",
        "Como mínimo debemos saber:\n",
        "-  Cuántos registros hay?\n",
        "-  Cuantos atributos tiene cada registro?\n",
        "-  De qué tipo son los atributos?\n",
        "\n",
        "Además:\n",
        "-  Obtener una medida de centralidad para cada atributo\n",
        "-  Obtener una medida de dispersión o desviación para los atributos que ésto tenga sentido\n",
        "-  Calcular la matriz de correlación de los atributos de entrada para identificar atributos redundantes\n",
        "\n",
        "Como paso previo al preprocesamiento de los datos, debemos:\n",
        "-  Detectar si hay datos faltantes (determinar en qué columnas y cuantos datos faltan en un mismo registro)\n",
        "-  Detectar si hay datos atípicos\n",
        "-  Detectar si hay desbalance entre clases\n",
        "\n",
        "Notar que en esta etapa no hacemos ninguna modificación sobre los datos, sólo estamos conociéndolos a fondo para saber con qué material contamos para trabajar.\n",
        "\n",
        "febrero de 2023\n"
      ]
    },
    {
      "cell_type": "code",
      "execution_count": 1090,
      "metadata": {
        "id": "evOMJFAUpBPh",
        "outputId": "1f9e907e-7e82-41a8-830b-87810f2a6b3d",
        "colab": {
          "base_uri": "https://localhost:8080/",
          "height": 467
        }
      },
      "outputs": [
        {
          "output_type": "execute_result",
          "data": {
            "text/plain": [
              "       Age          Workclass  Fnlwgt    Education  Education-num  \\\n",
              "0       39          State-gov   77516    Bachelors             13   \n",
              "1       50   Self-emp-not-inc   83311    Bachelors             13   \n",
              "2       38            Private  215646      HS-grad              9   \n",
              "3       53            Private  234721         11th              7   \n",
              "4       28            Private  338409    Bachelors             13   \n",
              "...    ...                ...     ...          ...            ...   \n",
              "32556   27            Private  257302   Assoc-acdm             12   \n",
              "32557   40            Private  154374      HS-grad              9   \n",
              "32558   58            Private  151910      HS-grad              9   \n",
              "32559   22            Private  201490      HS-grad              9   \n",
              "32560   52       Self-emp-inc  287927      HS-grad              9   \n",
              "\n",
              "            Marital-status          Occupation    Relationship    Race  \\\n",
              "0            Never-married        Adm-clerical   Not-in-family   White   \n",
              "1       Married-civ-spouse     Exec-managerial         Husband   White   \n",
              "2                 Divorced   Handlers-cleaners   Not-in-family   White   \n",
              "3       Married-civ-spouse   Handlers-cleaners         Husband   Black   \n",
              "4       Married-civ-spouse      Prof-specialty            Wife   Black   \n",
              "...                    ...                 ...             ...     ...   \n",
              "32556   Married-civ-spouse        Tech-support            Wife   White   \n",
              "32557   Married-civ-spouse   Machine-op-inspct         Husband   White   \n",
              "32558              Widowed        Adm-clerical       Unmarried   White   \n",
              "32559        Never-married        Adm-clerical       Own-child   White   \n",
              "32560   Married-civ-spouse     Exec-managerial            Wife   White   \n",
              "\n",
              "           Sex  Capital-gain  Capital-loss  Hpw         Country       C  \n",
              "0         Male          2174             0   40   United-States   <=50K  \n",
              "1         Male             0             0   13   United-States   <=50K  \n",
              "2         Male             0             0   40   United-States   <=50K  \n",
              "3         Male             0             0   40   United-States   <=50K  \n",
              "4       Female             0             0   40            Cuba   <=50K  \n",
              "...        ...           ...           ...  ...             ...     ...  \n",
              "32556   Female             0             0   38   United-States   <=50K  \n",
              "32557     Male             0             0   40   United-States    >50K  \n",
              "32558   Female             0             0   40   United-States   <=50K  \n",
              "32559     Male             0             0   20   United-States   <=50K  \n",
              "32560   Female         15024             0   40   United-States    >50K  \n",
              "\n",
              "[32561 rows x 15 columns]"
            ],
            "text/html": [
              "\n",
              "  <div id=\"df-d7a3c1fa-857d-47f4-b7cf-423d4c092068\">\n",
              "    <div class=\"colab-df-container\">\n",
              "      <div>\n",
              "<style scoped>\n",
              "    .dataframe tbody tr th:only-of-type {\n",
              "        vertical-align: middle;\n",
              "    }\n",
              "\n",
              "    .dataframe tbody tr th {\n",
              "        vertical-align: top;\n",
              "    }\n",
              "\n",
              "    .dataframe thead th {\n",
              "        text-align: right;\n",
              "    }\n",
              "</style>\n",
              "<table border=\"1\" class=\"dataframe\">\n",
              "  <thead>\n",
              "    <tr style=\"text-align: right;\">\n",
              "      <th></th>\n",
              "      <th>Age</th>\n",
              "      <th>Workclass</th>\n",
              "      <th>Fnlwgt</th>\n",
              "      <th>Education</th>\n",
              "      <th>Education-num</th>\n",
              "      <th>Marital-status</th>\n",
              "      <th>Occupation</th>\n",
              "      <th>Relationship</th>\n",
              "      <th>Race</th>\n",
              "      <th>Sex</th>\n",
              "      <th>Capital-gain</th>\n",
              "      <th>Capital-loss</th>\n",
              "      <th>Hpw</th>\n",
              "      <th>Country</th>\n",
              "      <th>C</th>\n",
              "    </tr>\n",
              "  </thead>\n",
              "  <tbody>\n",
              "    <tr>\n",
              "      <th>0</th>\n",
              "      <td>39</td>\n",
              "      <td>State-gov</td>\n",
              "      <td>77516</td>\n",
              "      <td>Bachelors</td>\n",
              "      <td>13</td>\n",
              "      <td>Never-married</td>\n",
              "      <td>Adm-clerical</td>\n",
              "      <td>Not-in-family</td>\n",
              "      <td>White</td>\n",
              "      <td>Male</td>\n",
              "      <td>2174</td>\n",
              "      <td>0</td>\n",
              "      <td>40</td>\n",
              "      <td>United-States</td>\n",
              "      <td>&lt;=50K</td>\n",
              "    </tr>\n",
              "    <tr>\n",
              "      <th>1</th>\n",
              "      <td>50</td>\n",
              "      <td>Self-emp-not-inc</td>\n",
              "      <td>83311</td>\n",
              "      <td>Bachelors</td>\n",
              "      <td>13</td>\n",
              "      <td>Married-civ-spouse</td>\n",
              "      <td>Exec-managerial</td>\n",
              "      <td>Husband</td>\n",
              "      <td>White</td>\n",
              "      <td>Male</td>\n",
              "      <td>0</td>\n",
              "      <td>0</td>\n",
              "      <td>13</td>\n",
              "      <td>United-States</td>\n",
              "      <td>&lt;=50K</td>\n",
              "    </tr>\n",
              "    <tr>\n",
              "      <th>2</th>\n",
              "      <td>38</td>\n",
              "      <td>Private</td>\n",
              "      <td>215646</td>\n",
              "      <td>HS-grad</td>\n",
              "      <td>9</td>\n",
              "      <td>Divorced</td>\n",
              "      <td>Handlers-cleaners</td>\n",
              "      <td>Not-in-family</td>\n",
              "      <td>White</td>\n",
              "      <td>Male</td>\n",
              "      <td>0</td>\n",
              "      <td>0</td>\n",
              "      <td>40</td>\n",
              "      <td>United-States</td>\n",
              "      <td>&lt;=50K</td>\n",
              "    </tr>\n",
              "    <tr>\n",
              "      <th>3</th>\n",
              "      <td>53</td>\n",
              "      <td>Private</td>\n",
              "      <td>234721</td>\n",
              "      <td>11th</td>\n",
              "      <td>7</td>\n",
              "      <td>Married-civ-spouse</td>\n",
              "      <td>Handlers-cleaners</td>\n",
              "      <td>Husband</td>\n",
              "      <td>Black</td>\n",
              "      <td>Male</td>\n",
              "      <td>0</td>\n",
              "      <td>0</td>\n",
              "      <td>40</td>\n",
              "      <td>United-States</td>\n",
              "      <td>&lt;=50K</td>\n",
              "    </tr>\n",
              "    <tr>\n",
              "      <th>4</th>\n",
              "      <td>28</td>\n",
              "      <td>Private</td>\n",
              "      <td>338409</td>\n",
              "      <td>Bachelors</td>\n",
              "      <td>13</td>\n",
              "      <td>Married-civ-spouse</td>\n",
              "      <td>Prof-specialty</td>\n",
              "      <td>Wife</td>\n",
              "      <td>Black</td>\n",
              "      <td>Female</td>\n",
              "      <td>0</td>\n",
              "      <td>0</td>\n",
              "      <td>40</td>\n",
              "      <td>Cuba</td>\n",
              "      <td>&lt;=50K</td>\n",
              "    </tr>\n",
              "    <tr>\n",
              "      <th>...</th>\n",
              "      <td>...</td>\n",
              "      <td>...</td>\n",
              "      <td>...</td>\n",
              "      <td>...</td>\n",
              "      <td>...</td>\n",
              "      <td>...</td>\n",
              "      <td>...</td>\n",
              "      <td>...</td>\n",
              "      <td>...</td>\n",
              "      <td>...</td>\n",
              "      <td>...</td>\n",
              "      <td>...</td>\n",
              "      <td>...</td>\n",
              "      <td>...</td>\n",
              "      <td>...</td>\n",
              "    </tr>\n",
              "    <tr>\n",
              "      <th>32556</th>\n",
              "      <td>27</td>\n",
              "      <td>Private</td>\n",
              "      <td>257302</td>\n",
              "      <td>Assoc-acdm</td>\n",
              "      <td>12</td>\n",
              "      <td>Married-civ-spouse</td>\n",
              "      <td>Tech-support</td>\n",
              "      <td>Wife</td>\n",
              "      <td>White</td>\n",
              "      <td>Female</td>\n",
              "      <td>0</td>\n",
              "      <td>0</td>\n",
              "      <td>38</td>\n",
              "      <td>United-States</td>\n",
              "      <td>&lt;=50K</td>\n",
              "    </tr>\n",
              "    <tr>\n",
              "      <th>32557</th>\n",
              "      <td>40</td>\n",
              "      <td>Private</td>\n",
              "      <td>154374</td>\n",
              "      <td>HS-grad</td>\n",
              "      <td>9</td>\n",
              "      <td>Married-civ-spouse</td>\n",
              "      <td>Machine-op-inspct</td>\n",
              "      <td>Husband</td>\n",
              "      <td>White</td>\n",
              "      <td>Male</td>\n",
              "      <td>0</td>\n",
              "      <td>0</td>\n",
              "      <td>40</td>\n",
              "      <td>United-States</td>\n",
              "      <td>&gt;50K</td>\n",
              "    </tr>\n",
              "    <tr>\n",
              "      <th>32558</th>\n",
              "      <td>58</td>\n",
              "      <td>Private</td>\n",
              "      <td>151910</td>\n",
              "      <td>HS-grad</td>\n",
              "      <td>9</td>\n",
              "      <td>Widowed</td>\n",
              "      <td>Adm-clerical</td>\n",
              "      <td>Unmarried</td>\n",
              "      <td>White</td>\n",
              "      <td>Female</td>\n",
              "      <td>0</td>\n",
              "      <td>0</td>\n",
              "      <td>40</td>\n",
              "      <td>United-States</td>\n",
              "      <td>&lt;=50K</td>\n",
              "    </tr>\n",
              "    <tr>\n",
              "      <th>32559</th>\n",
              "      <td>22</td>\n",
              "      <td>Private</td>\n",
              "      <td>201490</td>\n",
              "      <td>HS-grad</td>\n",
              "      <td>9</td>\n",
              "      <td>Never-married</td>\n",
              "      <td>Adm-clerical</td>\n",
              "      <td>Own-child</td>\n",
              "      <td>White</td>\n",
              "      <td>Male</td>\n",
              "      <td>0</td>\n",
              "      <td>0</td>\n",
              "      <td>20</td>\n",
              "      <td>United-States</td>\n",
              "      <td>&lt;=50K</td>\n",
              "    </tr>\n",
              "    <tr>\n",
              "      <th>32560</th>\n",
              "      <td>52</td>\n",
              "      <td>Self-emp-inc</td>\n",
              "      <td>287927</td>\n",
              "      <td>HS-grad</td>\n",
              "      <td>9</td>\n",
              "      <td>Married-civ-spouse</td>\n",
              "      <td>Exec-managerial</td>\n",
              "      <td>Wife</td>\n",
              "      <td>White</td>\n",
              "      <td>Female</td>\n",
              "      <td>15024</td>\n",
              "      <td>0</td>\n",
              "      <td>40</td>\n",
              "      <td>United-States</td>\n",
              "      <td>&gt;50K</td>\n",
              "    </tr>\n",
              "  </tbody>\n",
              "</table>\n",
              "<p>32561 rows × 15 columns</p>\n",
              "</div>\n",
              "      <button class=\"colab-df-convert\" onclick=\"convertToInteractive('df-d7a3c1fa-857d-47f4-b7cf-423d4c092068')\"\n",
              "              title=\"Convert this dataframe to an interactive table.\"\n",
              "              style=\"display:none;\">\n",
              "        \n",
              "  <svg xmlns=\"http://www.w3.org/2000/svg\" height=\"24px\"viewBox=\"0 0 24 24\"\n",
              "       width=\"24px\">\n",
              "    <path d=\"M0 0h24v24H0V0z\" fill=\"none\"/>\n",
              "    <path d=\"M18.56 5.44l.94 2.06.94-2.06 2.06-.94-2.06-.94-.94-2.06-.94 2.06-2.06.94zm-11 1L8.5 8.5l.94-2.06 2.06-.94-2.06-.94L8.5 2.5l-.94 2.06-2.06.94zm10 10l.94 2.06.94-2.06 2.06-.94-2.06-.94-.94-2.06-.94 2.06-2.06.94z\"/><path d=\"M17.41 7.96l-1.37-1.37c-.4-.4-.92-.59-1.43-.59-.52 0-1.04.2-1.43.59L10.3 9.45l-7.72 7.72c-.78.78-.78 2.05 0 2.83L4 21.41c.39.39.9.59 1.41.59.51 0 1.02-.2 1.41-.59l7.78-7.78 2.81-2.81c.8-.78.8-2.07 0-2.86zM5.41 20L4 18.59l7.72-7.72 1.47 1.35L5.41 20z\"/>\n",
              "  </svg>\n",
              "      </button>\n",
              "      \n",
              "  <style>\n",
              "    .colab-df-container {\n",
              "      display:flex;\n",
              "      flex-wrap:wrap;\n",
              "      gap: 12px;\n",
              "    }\n",
              "\n",
              "    .colab-df-convert {\n",
              "      background-color: #E8F0FE;\n",
              "      border: none;\n",
              "      border-radius: 50%;\n",
              "      cursor: pointer;\n",
              "      display: none;\n",
              "      fill: #1967D2;\n",
              "      height: 32px;\n",
              "      padding: 0 0 0 0;\n",
              "      width: 32px;\n",
              "    }\n",
              "\n",
              "    .colab-df-convert:hover {\n",
              "      background-color: #E2EBFA;\n",
              "      box-shadow: 0px 1px 2px rgba(60, 64, 67, 0.3), 0px 1px 3px 1px rgba(60, 64, 67, 0.15);\n",
              "      fill: #174EA6;\n",
              "    }\n",
              "\n",
              "    [theme=dark] .colab-df-convert {\n",
              "      background-color: #3B4455;\n",
              "      fill: #D2E3FC;\n",
              "    }\n",
              "\n",
              "    [theme=dark] .colab-df-convert:hover {\n",
              "      background-color: #434B5C;\n",
              "      box-shadow: 0px 1px 3px 1px rgba(0, 0, 0, 0.15);\n",
              "      filter: drop-shadow(0px 1px 2px rgba(0, 0, 0, 0.3));\n",
              "      fill: #FFFFFF;\n",
              "    }\n",
              "  </style>\n",
              "\n",
              "      <script>\n",
              "        const buttonEl =\n",
              "          document.querySelector('#df-d7a3c1fa-857d-47f4-b7cf-423d4c092068 button.colab-df-convert');\n",
              "        buttonEl.style.display =\n",
              "          google.colab.kernel.accessAllowed ? 'block' : 'none';\n",
              "\n",
              "        async function convertToInteractive(key) {\n",
              "          const element = document.querySelector('#df-d7a3c1fa-857d-47f4-b7cf-423d4c092068');\n",
              "          const dataTable =\n",
              "            await google.colab.kernel.invokeFunction('convertToInteractive',\n",
              "                                                     [key], {});\n",
              "          if (!dataTable) return;\n",
              "\n",
              "          const docLinkHtml = 'Like what you see? Visit the ' +\n",
              "            '<a target=\"_blank\" href=https://colab.research.google.com/notebooks/data_table.ipynb>data table notebook</a>'\n",
              "            + ' to learn more about interactive tables.';\n",
              "          element.innerHTML = '';\n",
              "          dataTable['output_type'] = 'display_data';\n",
              "          await google.colab.output.renderOutput(dataTable, element);\n",
              "          const docLink = document.createElement('div');\n",
              "          docLink.innerHTML = docLinkHtml;\n",
              "          element.appendChild(docLink);\n",
              "        }\n",
              "      </script>\n",
              "    </div>\n",
              "  </div>\n",
              "  "
            ]
          },
          "metadata": {},
          "execution_count": 1090
        }
      ],
      "source": [
        "# Carga de librerías y lectura del archivo que contiene los datos\n",
        "\n",
        "import numpy as np\n",
        "import pandas as pd\n",
        "import seaborn as sns\n",
        "import matplotlib.pyplot as plt\n",
        "from sklearn import preprocessing\n",
        "import scipy.stats as stats\n",
        "from sklearn.compose import ColumnTransformer\n",
        "from sklearn.model_selection import train_test_split\n",
        "from sklearn.linear_model import LogisticRegression\n",
        "from sklearn import metrics\n",
        "from sklearn import preprocessing\n",
        "from sklearn.metrics import classification_report\n",
        "from sklearn.preprocessing import LabelEncoder\n",
        "\n",
        "url=\"https://archive.ics.uci.edu/ml/machine-learning-databases/adult/adult.data\"\n",
        "data = pd.read_csv(url, header=None, na_values=\" ?\")\n",
        "\n",
        "#Ponemos nombre a las columnas (Esta información se toma del archivo original adult.names que está en el \n",
        "#repositorio junto con el archivo de datos)\n",
        "data.columns = ['Age', 'Workclass', 'Fnlwgt', 'Education', 'Education-num', 'Marital-status', 'Occupation',\n",
        "              'Relationship', 'Race', 'Sex', 'Capital-gain', 'Capital-loss', 'Hpw', 'Country', 'C']\n",
        "data"
      ]
    },
    {
      "cell_type": "code",
      "source": [
        "!git clone https://github.com/omarcastano/JaverianaML.git"
      ],
      "metadata": {
        "colab": {
          "base_uri": "https://localhost:8080/"
        },
        "id": "hdMCYwm4eKpT",
        "outputId": "56bf4383-5c5b-4012-9635-5e6eae681397"
      },
      "execution_count": 1091,
      "outputs": [
        {
          "output_type": "stream",
          "name": "stdout",
          "text": [
            "fatal: destination path 'JaverianaML' already exists and is not an empty directory.\n"
          ]
        }
      ]
    },
    {
      "cell_type": "code",
      "source": [
        "labelencoder= LabelEncoder()\n",
        "data['C']=labelencoder.fit_transform(data['C'])\n"
      ],
      "metadata": {
        "id": "Oh56BHowAhQj"
      },
      "execution_count": 1092,
      "outputs": []
    },
    {
      "cell_type": "code",
      "execution_count": 1093,
      "metadata": {
        "id": "rzr3w3iHpBPj",
        "outputId": "a8b3b7af-40fd-43f4-ccee-2d8684f39c9b",
        "colab": {
          "base_uri": "https://localhost:8080/"
        }
      },
      "outputs": [
        {
          "output_type": "execute_result",
          "data": {
            "text/plain": [
              "(32561, 15)"
            ]
          },
          "metadata": {},
          "execution_count": 1093
        }
      ],
      "source": [
        "#Cuál es el número de registros?\n",
        "#Cuál es el número de atributos?\n",
        "\n",
        "shape = data.shape\n",
        "shape"
      ]
    },
    {
      "cell_type": "code",
      "execution_count": 1094,
      "metadata": {
        "id": "z2We6eBKpBPj",
        "outputId": "36aad075-18c7-4841-9858-fdf28f7b261e",
        "colab": {
          "base_uri": "https://localhost:8080/"
        }
      },
      "outputs": [
        {
          "output_type": "execute_result",
          "data": {
            "text/plain": [
              "Age                int64\n",
              "Workclass         object\n",
              "Fnlwgt             int64\n",
              "Education         object\n",
              "Education-num      int64\n",
              "Marital-status    object\n",
              "Occupation        object\n",
              "Relationship      object\n",
              "Race              object\n",
              "Sex               object\n",
              "Capital-gain       int64\n",
              "Capital-loss       int64\n",
              "Hpw                int64\n",
              "Country           object\n",
              "C                  int64\n",
              "dtype: object"
            ]
          },
          "metadata": {},
          "execution_count": 1094
        }
      ],
      "source": [
        "#Cual es el tipo de los atributos?\n",
        "data. dtypes"
      ]
    },
    {
      "cell_type": "markdown",
      "source": [
        "**Separar en variables categoricas y numericas**\n",
        "\n"
      ],
      "metadata": {
        "id": "eai6kct0ssmB"
      }
    },
    {
      "cell_type": "code",
      "execution_count": 1095,
      "metadata": {
        "id": "zp9wKOR1pBPk",
        "outputId": "becb6ec9-aa62-4f40-e0e8-77a4be6a0c27",
        "colab": {
          "base_uri": "https://localhost:8080/",
          "height": 276
        }
      },
      "outputs": [
        {
          "output_type": "display_data",
          "data": {
            "text/plain": [
              "<Figure size 432x288 with 1 Axes>"
            ],
            "image/png": "[encoded data removed]"
          },
          "metadata": {
            "needs_background": "light"
          }
        }
      ],
      "source": [
        "#Diagrama de cajas y bigotes para atributos numéricos\n",
        "\n",
        "plt.boxplot((data['Age'],data['Fnlwgt'],data['Education-num'],data['Capital-gain'],data['Capital-loss'], data['Hpw']))\n",
        "plt.show()\n"
      ]
    },
    {
      "cell_type": "code",
      "execution_count": 1096,
      "metadata": {
        "id": "B7ZkyKQGpBPk",
        "outputId": "f6380e32-6703-4153-f109-0fc6b923b002",
        "colab": {
          "base_uri": "https://localhost:8080/",
          "height": 143
        }
      },
      "outputs": [
        {
          "output_type": "execute_result",
          "data": {
            "text/plain": [
              "    Age Workclass  Fnlwgt Education  Education-num       Marital-status  \\\n",
              "0  36.0   Private  123011   HS-grad            9.0   Married-civ-spouse   \n",
              "1   NaN       NaN  164190       NaN            NaN                  NaN   \n",
              "2   NaN       NaN  203488       NaN            NaN                  NaN   \n",
              "\n",
              "        Occupation Relationship    Race    Sex  Capital-gain  Capital-loss  \\\n",
              "0   Prof-specialty      Husband   White   Male           0.0           0.0   \n",
              "1              NaN          NaN     NaN    NaN           NaN           NaN   \n",
              "2              NaN          NaN     NaN    NaN           NaN           NaN   \n",
              "\n",
              "    Hpw         Country    C  \n",
              "0  40.0   United-States  0.0  \n",
              "1   NaN             NaN  NaN  \n",
              "2   NaN             NaN  NaN  "
            ],
            "text/html": [
              "\n",
              "  <div id=\"df-7d402a97-5f3a-4375-bf6f-6fc3cd55ea47\">\n",
              "    <div class=\"colab-df-container\">\n",
              "      <div>\n",
              "<style scoped>\n",
              "    .dataframe tbody tr th:only-of-type {\n",
              "        vertical-align: middle;\n",
              "    }\n",
              "\n",
              "    .dataframe tbody tr th {\n",
              "        vertical-align: top;\n",
              "    }\n",
              "\n",
              "    .dataframe thead th {\n",
              "        text-align: right;\n",
              "    }\n",
              "</style>\n",
              "<table border=\"1\" class=\"dataframe\">\n",
              "  <thead>\n",
              "    <tr style=\"text-align: right;\">\n",
              "      <th></th>\n",
              "      <th>Age</th>\n",
              "      <th>Workclass</th>\n",
              "      <th>Fnlwgt</th>\n",
              "      <th>Education</th>\n",
              "      <th>Education-num</th>\n",
              "      <th>Marital-status</th>\n",
              "      <th>Occupation</th>\n",
              "      <th>Relationship</th>\n",
              "      <th>Race</th>\n",
              "      <th>Sex</th>\n",
              "      <th>Capital-gain</th>\n",
              "      <th>Capital-loss</th>\n",
              "      <th>Hpw</th>\n",
              "      <th>Country</th>\n",
              "      <th>C</th>\n",
              "    </tr>\n",
              "  </thead>\n",
              "  <tbody>\n",
              "    <tr>\n",
              "      <th>0</th>\n",
              "      <td>36.0</td>\n",
              "      <td>Private</td>\n",
              "      <td>123011</td>\n",
              "      <td>HS-grad</td>\n",
              "      <td>9.0</td>\n",
              "      <td>Married-civ-spouse</td>\n",
              "      <td>Prof-specialty</td>\n",
              "      <td>Husband</td>\n",
              "      <td>White</td>\n",
              "      <td>Male</td>\n",
              "      <td>0.0</td>\n",
              "      <td>0.0</td>\n",
              "      <td>40.0</td>\n",
              "      <td>United-States</td>\n",
              "      <td>0.0</td>\n",
              "    </tr>\n",
              "    <tr>\n",
              "      <th>1</th>\n",
              "      <td>NaN</td>\n",
              "      <td>NaN</td>\n",
              "      <td>164190</td>\n",
              "      <td>NaN</td>\n",
              "      <td>NaN</td>\n",
              "      <td>NaN</td>\n",
              "      <td>NaN</td>\n",
              "      <td>NaN</td>\n",
              "      <td>NaN</td>\n",
              "      <td>NaN</td>\n",
              "      <td>NaN</td>\n",
              "      <td>NaN</td>\n",
              "      <td>NaN</td>\n",
              "      <td>NaN</td>\n",
              "      <td>NaN</td>\n",
              "    </tr>\n",
              "    <tr>\n",
              "      <th>2</th>\n",
              "      <td>NaN</td>\n",
              "      <td>NaN</td>\n",
              "      <td>203488</td>\n",
              "      <td>NaN</td>\n",
              "      <td>NaN</td>\n",
              "      <td>NaN</td>\n",
              "      <td>NaN</td>\n",
              "      <td>NaN</td>\n",
              "      <td>NaN</td>\n",
              "      <td>NaN</td>\n",
              "      <td>NaN</td>\n",
              "      <td>NaN</td>\n",
              "      <td>NaN</td>\n",
              "      <td>NaN</td>\n",
              "      <td>NaN</td>\n",
              "    </tr>\n",
              "  </tbody>\n",
              "</table>\n",
              "</div>\n",
              "      <button class=\"colab-df-convert\" onclick=\"convertToInteractive('df-7d402a97-5f3a-4375-bf6f-6fc3cd55ea47')\"\n",
              "              title=\"Convert this dataframe to an interactive table.\"\n",
              "              style=\"display:none;\">\n",
              "        \n",
              "  <svg xmlns=\"http://www.w3.org/2000/svg\" height=\"24px\"viewBox=\"0 0 24 24\"\n",
              "       width=\"24px\">\n",
              "    <path d=\"M0 0h24v24H0V0z\" fill=\"none\"/>\n",
              "    <path d=\"M18.56 5.44l.94 2.06.94-2.06 2.06-.94-2.06-.94-.94-2.06-.94 2.06-2.06.94zm-11 1L8.5 8.5l.94-2.06 2.06-.94-2.06-.94L8.5 2.5l-.94 2.06-2.06.94zm10 10l.94 2.06.94-2.06 2.06-.94-2.06-.94-.94-2.06-.94 2.06-2.06.94z\"/><path d=\"M17.41 7.96l-1.37-1.37c-.4-.4-.92-.59-1.43-.59-.52 0-1.04.2-1.43.59L10.3 9.45l-7.72 7.72c-.78.78-.78 2.05 0 2.83L4 21.41c.39.39.9.59 1.41.59.51 0 1.02-.2 1.41-.59l7.78-7.78 2.81-2.81c.8-.78.8-2.07 0-2.86zM5.41 20L4 18.59l7.72-7.72 1.47 1.35L5.41 20z\"/>\n",
              "  </svg>\n",
              "      </button>\n",
              "      \n",
              "  <style>\n",
              "    .colab-df-container {\n",
              "      display:flex;\n",
              "      flex-wrap:wrap;\n",
              "      gap: 12px;\n",
              "    }\n",
              "\n",
              "    .colab-df-convert {\n",
              "      background-color: #E8F0FE;\n",
              "      border: none;\n",
              "      border-radius: 50%;\n",
              "      cursor: pointer;\n",
              "      display: none;\n",
              "      fill: #1967D2;\n",
              "      height: 32px;\n",
              "      padding: 0 0 0 0;\n",
              "      width: 32px;\n",
              "    }\n",
              "\n",
              "    .colab-df-convert:hover {\n",
              "      background-color: #E2EBFA;\n",
              "      box-shadow: 0px 1px 2px rgba(60, 64, 67, 0.3), 0px 1px 3px 1px rgba(60, 64, 67, 0.15);\n",
              "      fill: #174EA6;\n",
              "    }\n",
              "\n",
              "    [theme=dark] .colab-df-convert {\n",
              "      background-color: #3B4455;\n",
              "      fill: #D2E3FC;\n",
              "    }\n",
              "\n",
              "    [theme=dark] .colab-df-convert:hover {\n",
              "      background-color: #434B5C;\n",
              "      box-shadow: 0px 1px 3px 1px rgba(0, 0, 0, 0.15);\n",
              "      filter: drop-shadow(0px 1px 2px rgba(0, 0, 0, 0.3));\n",
              "      fill: #FFFFFF;\n",
              "    }\n",
              "  </style>\n",
              "\n",
              "      <script>\n",
              "        const buttonEl =\n",
              "          document.querySelector('#df-7d402a97-5f3a-4375-bf6f-6fc3cd55ea47 button.colab-df-convert');\n",
              "        buttonEl.style.display =\n",
              "          google.colab.kernel.accessAllowed ? 'block' : 'none';\n",
              "\n",
              "        async function convertToInteractive(key) {\n",
              "          const element = document.querySelector('#df-7d402a97-5f3a-4375-bf6f-6fc3cd55ea47');\n",
              "          const dataTable =\n",
              "            await google.colab.kernel.invokeFunction('convertToInteractive',\n",
              "                                                     [key], {});\n",
              "          if (!dataTable) return;\n",
              "\n",
              "          const docLinkHtml = 'Like what you see? Visit the ' +\n",
              "            '<a target=\"_blank\" href=https://colab.research.google.com/notebooks/data_table.ipynb>data table notebook</a>'\n",
              "            + ' to learn more about interactive tables.';\n",
              "          element.innerHTML = '';\n",
              "          dataTable['output_type'] = 'display_data';\n",
              "          await google.colab.output.renderOutput(dataTable, element);\n",
              "          const docLink = document.createElement('div');\n",
              "          docLink.innerHTML = docLinkHtml;\n",
              "          element.appendChild(docLink);\n",
              "        }\n",
              "      </script>\n",
              "    </div>\n",
              "  </div>\n",
              "  "
            ]
          },
          "metadata": {},
          "execution_count": 1096
        }
      ],
      "source": [
        "#Medidas de centralidad para atributos categóricos:\n",
        "data.mode()"
      ]
    },
    {
      "cell_type": "code",
      "execution_count": 1097,
      "metadata": {
        "id": "zAkCbyABpBPl",
        "outputId": "9ac2f404-2513-4386-8c38-870188058457",
        "colab": {
          "base_uri": "https://localhost:8080/",
          "height": 269
        }
      },
      "outputs": [
        {
          "output_type": "execute_result",
          "data": {
            "text/plain": [
              "                    Age    Fnlwgt  Education-num  Capital-gain  Capital-loss  \\\n",
              "Age            1.000000 -0.076646       0.036527      0.077674      0.057775   \n",
              "Fnlwgt        -0.076646  1.000000      -0.043195      0.000432     -0.010252   \n",
              "Education-num  0.036527 -0.043195       1.000000      0.122630      0.079923   \n",
              "Capital-gain   0.077674  0.000432       0.122630      1.000000     -0.031615   \n",
              "Capital-loss   0.057775 -0.010252       0.079923     -0.031615      1.000000   \n",
              "Hpw            0.068756 -0.018768       0.148123      0.078409      0.054256   \n",
              "C              0.234037 -0.009463       0.335154      0.223329      0.150526   \n",
              "\n",
              "                    Hpw         C  \n",
              "Age            0.068756  0.234037  \n",
              "Fnlwgt        -0.018768 -0.009463  \n",
              "Education-num  0.148123  0.335154  \n",
              "Capital-gain   0.078409  0.223329  \n",
              "Capital-loss   0.054256  0.150526  \n",
              "Hpw            1.000000  0.229689  \n",
              "C              0.229689  1.000000  "
            ],
            "text/html": [
              "\n",
              "  <div id=\"df-9602bbff-5fc1-4c1a-81ab-e66da5c98c49\">\n",
              "    <div class=\"colab-df-container\">\n",
              "      <div>\n",
              "<style scoped>\n",
              "    .dataframe tbody tr th:only-of-type {\n",
              "        vertical-align: middle;\n",
              "    }\n",
              "\n",
              "    .dataframe tbody tr th {\n",
              "        vertical-align: top;\n",
              "    }\n",
              "\n",
              "    .dataframe thead th {\n",
              "        text-align: right;\n",
              "    }\n",
              "</style>\n",
              "<table border=\"1\" class=\"dataframe\">\n",
              "  <thead>\n",
              "    <tr style=\"text-align: right;\">\n",
              "      <th></th>\n",
              "      <th>Age</th>\n",
              "      <th>Fnlwgt</th>\n",
              "      <th>Education-num</th>\n",
              "      <th>Capital-gain</th>\n",
              "      <th>Capital-loss</th>\n",
              "      <th>Hpw</th>\n",
              "      <th>C</th>\n",
              "    </tr>\n",
              "  </thead>\n",
              "  <tbody>\n",
              "    <tr>\n",
              "      <th>Age</th>\n",
              "      <td>1.000000</td>\n",
              "      <td>-0.076646</td>\n",
              "      <td>0.036527</td>\n",
              "      <td>0.077674</td>\n",
              "      <td>0.057775</td>\n",
              "      <td>0.068756</td>\n",
              "      <td>0.234037</td>\n",
              "    </tr>\n",
              "    <tr>\n",
              "      <th>Fnlwgt</th>\n",
              "      <td>-0.076646</td>\n",
              "      <td>1.000000</td>\n",
              "      <td>-0.043195</td>\n",
              "      <td>0.000432</td>\n",
              "      <td>-0.010252</td>\n",
              "      <td>-0.018768</td>\n",
              "      <td>-0.009463</td>\n",
              "    </tr>\n",
              "    <tr>\n",
              "      <th>Education-num</th>\n",
              "      <td>0.036527</td>\n",
              "      <td>-0.043195</td>\n",
              "      <td>1.000000</td>\n",
              "      <td>0.122630</td>\n",
              "      <td>0.079923</td>\n",
              "      <td>0.148123</td>\n",
              "      <td>0.335154</td>\n",
              "    </tr>\n",
              "    <tr>\n",
              "      <th>Capital-gain</th>\n",
              "      <td>0.077674</td>\n",
              "      <td>0.000432</td>\n",
              "      <td>0.122630</td>\n",
              "      <td>1.000000</td>\n",
              "      <td>-0.031615</td>\n",
              "      <td>0.078409</td>\n",
              "      <td>0.223329</td>\n",
              "    </tr>\n",
              "    <tr>\n",
              "      <th>Capital-loss</th>\n",
              "      <td>0.057775</td>\n",
              "      <td>-0.010252</td>\n",
              "      <td>0.079923</td>\n",
              "      <td>-0.031615</td>\n",
              "      <td>1.000000</td>\n",
              "      <td>0.054256</td>\n",
              "      <td>0.150526</td>\n",
              "    </tr>\n",
              "    <tr>\n",
              "      <th>Hpw</th>\n",
              "      <td>0.068756</td>\n",
              "      <td>-0.018768</td>\n",
              "      <td>0.148123</td>\n",
              "      <td>0.078409</td>\n",
              "      <td>0.054256</td>\n",
              "      <td>1.000000</td>\n",
              "      <td>0.229689</td>\n",
              "    </tr>\n",
              "    <tr>\n",
              "      <th>C</th>\n",
              "      <td>0.234037</td>\n",
              "      <td>-0.009463</td>\n",
              "      <td>0.335154</td>\n",
              "      <td>0.223329</td>\n",
              "      <td>0.150526</td>\n",
              "      <td>0.229689</td>\n",
              "      <td>1.000000</td>\n",
              "    </tr>\n",
              "  </tbody>\n",
              "</table>\n",
              "</div>\n",
              "      <button class=\"colab-df-convert\" onclick=\"convertToInteractive('df-9602bbff-5fc1-4c1a-81ab-e66da5c98c49')\"\n",
              "              title=\"Convert this dataframe to an interactive table.\"\n",
              "              style=\"display:none;\">\n",
              "        \n",
              "  <svg xmlns=\"http://www.w3.org/2000/svg\" height=\"24px\"viewBox=\"0 0 24 24\"\n",
              "       width=\"24px\">\n",
              "    <path d=\"M0 0h24v24H0V0z\" fill=\"none\"/>\n",
              "    <path d=\"M18.56 5.44l.94 2.06.94-2.06 2.06-.94-2.06-.94-.94-2.06-.94 2.06-2.06.94zm-11 1L8.5 8.5l.94-2.06 2.06-.94-2.06-.94L8.5 2.5l-.94 2.06-2.06.94zm10 10l.94 2.06.94-2.06 2.06-.94-2.06-.94-.94-2.06-.94 2.06-2.06.94z\"/><path d=\"M17.41 7.96l-1.37-1.37c-.4-.4-.92-.59-1.43-.59-.52 0-1.04.2-1.43.59L10.3 9.45l-7.72 7.72c-.78.78-.78 2.05 0 2.83L4 21.41c.39.39.9.59 1.41.59.51 0 1.02-.2 1.41-.59l7.78-7.78 2.81-2.81c.8-.78.8-2.07 0-2.86zM5.41 20L4 18.59l7.72-7.72 1.47 1.35L5.41 20z\"/>\n",
              "  </svg>\n",
              "      </button>\n",
              "      \n",
              "  <style>\n",
              "    .colab-df-container {\n",
              "      display:flex;\n",
              "      flex-wrap:wrap;\n",
              "      gap: 12px;\n",
              "    }\n",
              "\n",
              "    .colab-df-convert {\n",
              "      background-color: #E8F0FE;\n",
              "      border: none;\n",
              "      border-radius: 50%;\n",
              "      cursor: pointer;\n",
              "      display: none;\n",
              "      fill: #1967D2;\n",
              "      height: 32px;\n",
              "      padding: 0 0 0 0;\n",
              "      width: 32px;\n",
              "    }\n",
              "\n",
              "    .colab-df-convert:hover {\n",
              "      background-color: #E2EBFA;\n",
              "      box-shadow: 0px 1px 2px rgba(60, 64, 67, 0.3), 0px 1px 3px 1px rgba(60, 64, 67, 0.15);\n",
              "      fill: #174EA6;\n",
              "    }\n",
              "\n",
              "    [theme=dark] .colab-df-convert {\n",
              "      background-color: #3B4455;\n",
              "      fill: #D2E3FC;\n",
              "    }\n",
              "\n",
              "    [theme=dark] .colab-df-convert:hover {\n",
              "      background-color: #434B5C;\n",
              "      box-shadow: 0px 1px 3px 1px rgba(0, 0, 0, 0.15);\n",
              "      filter: drop-shadow(0px 1px 2px rgba(0, 0, 0, 0.3));\n",
              "      fill: #FFFFFF;\n",
              "    }\n",
              "  </style>\n",
              "\n",
              "      <script>\n",
              "        const buttonEl =\n",
              "          document.querySelector('#df-9602bbff-5fc1-4c1a-81ab-e66da5c98c49 button.colab-df-convert');\n",
              "        buttonEl.style.display =\n",
              "          google.colab.kernel.accessAllowed ? 'block' : 'none';\n",
              "\n",
              "        async function convertToInteractive(key) {\n",
              "          const element = document.querySelector('#df-9602bbff-5fc1-4c1a-81ab-e66da5c98c49');\n",
              "          const dataTable =\n",
              "            await google.colab.kernel.invokeFunction('convertToInteractive',\n",
              "                                                     [key], {});\n",
              "          if (!dataTable) return;\n",
              "\n",
              "          const docLinkHtml = 'Like what you see? Visit the ' +\n",
              "            '<a target=\"_blank\" href=https://colab.research.google.com/notebooks/data_table.ipynb>data table notebook</a>'\n",
              "            + ' to learn more about interactive tables.';\n",
              "          element.innerHTML = '';\n",
              "          dataTable['output_type'] = 'display_data';\n",
              "          await google.colab.output.renderOutput(dataTable, element);\n",
              "          const docLink = document.createElement('div');\n",
              "          docLink.innerHTML = docLinkHtml;\n",
              "          element.appendChild(docLink);\n",
              "        }\n",
              "      </script>\n",
              "    </div>\n",
              "  </div>\n",
              "  "
            ]
          },
          "metadata": {},
          "execution_count": 1097
        }
      ],
      "source": [
        "data.corr()"
      ]
    },
    {
      "cell_type": "code",
      "execution_count": 1098,
      "metadata": {
        "id": "-ZZmUZ6FpBPl",
        "outputId": "6816858f-f8c4-44e7-b1a0-2dff3e48f909",
        "colab": {
          "base_uri": "https://localhost:8080/",
          "height": 352
        }
      },
      "outputs": [
        {
          "output_type": "execute_result",
          "data": {
            "text/plain": [
              "<matplotlib.axes._subplots.AxesSubplot at 0x7fdcc5836a00>"
            ]
          },
          "metadata": {},
          "execution_count": 1098
        },
        {
          "output_type": "display_data",
          "data": {
            "text/plain": [
              "<Figure size 432x288 with 2 Axes>"
            ],
            "image/png": "[encoded data removed]"
          },
          "metadata": {
            "needs_background": "light"
          }
        }
      ],
      "source": [
        "sns.heatmap(data.corr(), square=True, annot=True)"
      ]
    },
    {
      "cell_type": "code",
      "execution_count": 1099,
      "metadata": {
        "id": "lu46uZLApBPl",
        "outputId": "7fbbff23-f395-4df8-f2b9-235b7b355e81",
        "colab": {
          "base_uri": "https://localhost:8080/"
        }
      },
      "outputs": [
        {
          "output_type": "execute_result",
          "data": {
            "text/plain": [
              "3"
            ]
          },
          "metadata": {},
          "execution_count": 1099
        }
      ],
      "source": [
        "# Cual es el máximo de datos faltantes en un mismo registro?\n",
        "max(data.isnull().sum(axis=1))"
      ]
    },
    {
      "cell_type": "code",
      "source": [
        "print(data.shape)"
      ],
      "metadata": {
        "colab": {
          "base_uri": "https://localhost:8080/"
        },
        "id": "r0q68YFvrbKn",
        "outputId": "ff02606a-9d7d-4d13-d33c-414fa7392694"
      },
      "execution_count": 1100,
      "outputs": [
        {
          "output_type": "stream",
          "name": "stdout",
          "text": [
            "(32561, 15)\n"
          ]
        }
      ]
    },
    {
      "cell_type": "markdown",
      "source": [
        "# Datos atipicos eliminados"
      ],
      "metadata": {
        "id": "-GuTAEEiSHLr"
      }
    },
    {
      "cell_type": "code",
      "source": [
        "\"\"\"\n",
        "list_continua = ['Age', 'Fnlwgt', 'Education-num', 'Capital-gain', 'Capital-loss', 'Hpw']\n",
        "\n",
        "for var in list_continua:\n",
        "  q1 = data[var].quantile(0.25)\n",
        "  q3 = data[var].quantile(0.75)\n",
        "  IQR = q3 - q1\n",
        "  outliers_q1 = data.index[data[var] < q1 - 2*IQR]\n",
        "  data.drop(labels=outliers_q1, inplace=True)\n",
        "  outliers_q3 = data.index[data[var] > q3 + 2*IQR]\n",
        "  data.drop(labels=outliers_q3, inplace=True)\n",
        "\"\"\""
      ],
      "metadata": {
        "colab": {
          "base_uri": "https://localhost:8080/",
          "height": 70
        },
        "id": "HGE8DofYSG5b",
        "outputId": "763ccec8-d1c4-46a4-cde3-db894fbe7bd0"
      },
      "execution_count": 1101,
      "outputs": [
        {
          "output_type": "execute_result",
          "data": {
            "text/plain": [
              "\"\\nlist_continua = ['Age', 'Fnlwgt', 'Education-num', 'Capital-gain', 'Capital-loss', 'Hpw']\\n\\nfor var in list_continua:\\n  q1 = data[var].quantile(0.25)\\n  q3 = data[var].quantile(0.75)\\n  IQR = q3 - q1\\n  outliers_q1 = data.index[data[var] < q1 - 2*IQR]\\n  data.drop(labels=outliers_q1, inplace=True)\\n  outliers_q3 = data.index[data[var] > q3 + 2*IQR]\\n  data.drop(labels=outliers_q3, inplace=True)\\n\""
            ],
            "application/vnd.google.colaboratory.intrinsic+json": {
              "type": "string"
            }
          },
          "metadata": {},
          "execution_count": 1101
        }
      ]
    },
    {
      "cell_type": "code",
      "source": [
        "#print(data.shape)"
      ],
      "metadata": {
        "id": "YD9MLmCMSK1q"
      },
      "execution_count": 1102,
      "outputs": []
    },
    {
      "cell_type": "markdown",
      "source": [
        "# Datos Nulos"
      ],
      "metadata": {
        "id": "qH2t3xKrgE8e"
      }
    },
    {
      "cell_type": "code",
      "source": [
        "#porcentaje datos nulos en variables\n",
        "(data.isnull().sum()/data.shape[0])*100"
      ],
      "metadata": {
        "colab": {
          "base_uri": "https://localhost:8080/"
        },
        "id": "3oFFoZEi4rwK",
        "outputId": "cbe9925d-2f19-48ea-9c68-6b870c5453bc"
      },
      "execution_count": 1103,
      "outputs": [
        {
          "output_type": "execute_result",
          "data": {
            "text/plain": [
              "Age               0.000000\n",
              "Workclass         5.638647\n",
              "Fnlwgt            0.000000\n",
              "Education         0.000000\n",
              "Education-num     0.000000\n",
              "Marital-status    0.000000\n",
              "Occupation        5.660146\n",
              "Relationship      0.000000\n",
              "Race              0.000000\n",
              "Sex               0.000000\n",
              "Capital-gain      0.000000\n",
              "Capital-loss      0.000000\n",
              "Hpw               0.000000\n",
              "Country           1.790486\n",
              "C                 0.000000\n",
              "dtype: float64"
            ]
          },
          "metadata": {},
          "execution_count": 1103
        }
      ]
    },
    {
      "cell_type": "code",
      "execution_count": 1104,
      "metadata": {
        "id": "mb88vPICpBPl",
        "outputId": "cdcd2eeb-1267-4801-fd6f-6e1d884ed631",
        "colab": {
          "base_uri": "https://localhost:8080/"
        }
      },
      "outputs": [
        {
          "output_type": "execute_result",
          "data": {
            "text/plain": [
              "Age                  0\n",
              "Workclass         1836\n",
              "Fnlwgt               0\n",
              "Education            0\n",
              "Education-num        0\n",
              "Marital-status       0\n",
              "Occupation        1843\n",
              "Relationship         0\n",
              "Race                 0\n",
              "Sex                  0\n",
              "Capital-gain         0\n",
              "Capital-loss         0\n",
              "Hpw                  0\n",
              "Country            583\n",
              "C                    0\n",
              "dtype: int64"
            ]
          },
          "metadata": {},
          "execution_count": 1104
        }
      ],
      "source": [
        "#Cuantos datos faltantes hay por cada atributo?\n",
        "data.isnull().sum()"
      ]
    },
    {
      "cell_type": "markdown",
      "source": [
        "# reemplazar datos nulos por la media y moda"
      ],
      "metadata": {
        "id": "U5PtSF5y5D06"
      }
    },
    {
      "cell_type": "code",
      "source": [
        "#reemplazar datos nulos en numericos por la media y en categoricos por la moda\n",
        "data['Age'].fillna(data['Age'].median(), inplace=True)\n",
        "data['Workclass'].fillna(data['Workclass'].value_counts().index[0], inplace=True)\n",
        "data['Fnlwgt'].fillna(data['Fnlwgt'].median(), inplace=True)\n",
        "data['Education'].fillna(data['Education'].value_counts().index[0], inplace=True)\n",
        "data['Education-num'].fillna(data['Education-num'].median(), inplace=True)\n",
        "data['Marital-status'].fillna(data['Marital-status'].value_counts().index[0], inplace=True)\n",
        "data['Occupation'].fillna(data['Occupation'].value_counts().index[0], inplace=True)\n",
        "data['Relationship'].fillna(data['Relationship'].value_counts().index[0], inplace=True)\n",
        "data['Race'].fillna(data['Race'].value_counts().index[0], inplace=True)\n",
        "data['Capital-gain'].fillna(data['Capital-gain'].median(), inplace=True)\n",
        "data['Capital-loss'].fillna(data['Capital-loss'].median(), inplace=True)\n",
        "data['Hpw'].fillna(data['Hpw'].median(), inplace=True)\n",
        "data['Country'].fillna(data['Country'].value_counts().index[0], inplace=True)"
      ],
      "metadata": {
        "id": "qr8SvUw75JG_"
      },
      "execution_count": 1105,
      "outputs": []
    },
    {
      "cell_type": "code",
      "execution_count": 1106,
      "metadata": {
        "id": "wiaIlTAOpBPm",
        "colab": {
          "base_uri": "https://localhost:8080/"
        },
        "outputId": "66eb841e-76a9-4d72-db4c-637219e0c51c"
      },
      "outputs": [
        {
          "output_type": "stream",
          "name": "stdout",
          "text": [
            "0    24720\n",
            "1     7841\n",
            "Name: C, dtype: int64\n"
          ]
        }
      ],
      "source": [
        "#Cuantos registros hay por cada clase? es decir, por cada valor del atributo de salida?\n",
        "print(data['C'].value_counts()) "
      ]
    },
    {
      "cell_type": "markdown",
      "source": [
        "# Encoder a datos categoricos"
      ],
      "metadata": {
        "id": "0xn8MUv1LCFR"
      }
    },
    {
      "cell_type": "code",
      "source": [
        "lista_categoricos = [data[\"Workclass\"], data[\"Education\"], data[\"Marital-status\"], data[\"Occupation\"], data[\"Relationship\"], data[\"Race\"], data[\"Sex\"], data[\"Country\"]] #categoricos ya codificados, encoder a los de tipo object\n",
        "#print(lista_categoricos)\n",
        "lista_fact = []\n",
        "for e in lista_categoricos:\n",
        "  aux, _ = pd.factorize(e)\n",
        "  lista_fact.append(aux)\n",
        "print(lista_fact)"
      ],
      "metadata": {
        "id": "OMr4AsjiBrHd",
        "colab": {
          "base_uri": "https://localhost:8080/"
        },
        "outputId": "6c20afc6-61f9-4166-8962-b314cbfdb0ef"
      },
      "execution_count": 1107,
      "outputs": [
        {
          "output_type": "stream",
          "name": "stdout",
          "text": [
            "[array([0, 1, 2, ..., 2, 2, 5]), array([0, 0, 1, ..., 1, 1, 1]), array([0, 1, 2, ..., 6, 0, 1]), array([0, 1, 2, ..., 0, 0, 1]), array([0, 1, 0, ..., 4, 3, 2]), array([0, 0, 0, ..., 0, 0, 0]), array([0, 0, 0, ..., 1, 0, 1]), array([0, 0, 0, ..., 0, 0, 0])]\n"
          ]
        }
      ]
    },
    {
      "cell_type": "code",
      "source": [
        "data[\"Workclass\"] = lista_fact[0]\n",
        "data[\"Education\"] = lista_fact[1]\n",
        "data[\"Marital-status\"] = lista_fact[2]\n",
        "data[\"Occupation\"] = lista_fact[3]\n",
        "data[\"Relationship\"] = lista_fact[4]\n",
        "data[\"Race\"] = lista_fact[5]\n",
        "data[\"Sex\"] = lista_fact[6]\n",
        "data[\"Country\"] = lista_fact[7]"
      ],
      "metadata": {
        "id": "bB9bXGyq7XlR"
      },
      "execution_count": 1108,
      "outputs": []
    },
    {
      "cell_type": "code",
      "source": [
        "print(data)"
      ],
      "metadata": {
        "colab": {
          "base_uri": "https://localhost:8080/"
        },
        "id": "IRpeqVHg_xn3",
        "outputId": "9ca45346-705e-4cc3-8ce6-062f38d01b25"
      },
      "execution_count": 1109,
      "outputs": [
        {
          "output_type": "stream",
          "name": "stdout",
          "text": [
            "       Age  Workclass  Fnlwgt  Education  Education-num  Marital-status  \\\n",
            "0       39          0   77516          0             13               0   \n",
            "1       50          1   83311          0             13               1   \n",
            "2       38          2  215646          1              9               2   \n",
            "3       53          2  234721          2              7               1   \n",
            "4       28          2  338409          0             13               1   \n",
            "...    ...        ...     ...        ...            ...             ...   \n",
            "32556   27          2  257302          6             12               1   \n",
            "32557   40          2  154374          1              9               1   \n",
            "32558   58          2  151910          1              9               6   \n",
            "32559   22          2  201490          1              9               0   \n",
            "32560   52          5  287927          1              9               1   \n",
            "\n",
            "       Occupation  Relationship  Race  Sex  Capital-gain  Capital-loss  Hpw  \\\n",
            "0               0             0     0    0          2174             0   40   \n",
            "1               1             1     0    0             0             0   13   \n",
            "2               2             0     0    0             0             0   40   \n",
            "3               2             1     1    0             0             0   40   \n",
            "4               3             2     1    1             0             0   40   \n",
            "...           ...           ...   ...  ...           ...           ...  ...   \n",
            "32556          10             2     0    1             0             0   38   \n",
            "32557           9             1     0    0             0             0   40   \n",
            "32558           0             4     0    1             0             0   40   \n",
            "32559           0             3     0    0             0             0   20   \n",
            "32560           1             2     0    1         15024             0   40   \n",
            "\n",
            "       Country  C  \n",
            "0            0  0  \n",
            "1            0  0  \n",
            "2            0  0  \n",
            "3            0  0  \n",
            "4            1  0  \n",
            "...        ... ..  \n",
            "32556        0  0  \n",
            "32557        0  1  \n",
            "32558        0  0  \n",
            "32559        0  0  \n",
            "32560        0  1  \n",
            "\n",
            "[32561 rows x 15 columns]\n"
          ]
        }
      ]
    },
    {
      "cell_type": "markdown",
      "source": [
        "# Normalizar Datos"
      ],
      "metadata": {
        "id": "YU5BqdCpLICo"
      }
    },
    {
      "cell_type": "code",
      "source": [
        "from sklearn.preprocessing import MinMaxScaler\n",
        "from sklearn.preprocessing import StandardScaler\n",
        "from sklearn.preprocessing import RobustScaler\n",
        "from sklearn.preprocessing import MaxAbsScaler\n",
        "scaler = MinMaxScaler()\n",
        "#scaler = StandardScaler()\n",
        "#transformer = RobustScaler().fit(data.drop(['C'], 1))\n",
        "#transformer = MaxAbsScaler().fit(data.drop(['C'], 1))\n",
        "newData = scaler.fit_transform(data.drop(['C'], 1))\n",
        "#newData = transformer.transform(data.drop(['C'], 1))\n",
        "print(newData)"
      ],
      "metadata": {
        "colab": {
          "base_uri": "https://localhost:8080/"
        },
        "id": "xtfo4zzVK-6T",
        "outputId": "fbafa096-99d4-475e-b9ac-62f42049211b"
      },
      "execution_count": 1110,
      "outputs": [
        {
          "output_type": "stream",
          "name": "stdout",
          "text": [
            "[[0.30136986 0.         0.0443019  ... 0.         0.39795918 0.        ]\n",
            " [0.45205479 0.14285714 0.0482376  ... 0.         0.12244898 0.        ]\n",
            " [0.28767123 0.28571429 0.13811345 ... 0.         0.39795918 0.        ]\n",
            " ...\n",
            " [0.56164384 0.28571429 0.09482688 ... 0.         0.39795918 0.        ]\n",
            " [0.06849315 0.28571429 0.12849934 ... 0.         0.19387755 0.        ]\n",
            " [0.47945205 0.71428571 0.18720338 ... 0.         0.39795918 0.        ]]\n"
          ]
        },
        {
          "output_type": "stream",
          "name": "stderr",
          "text": [
            "<ipython-input-1110-ba1068ad2026>:9: FutureWarning:\n",
            "\n",
            "In a future version of pandas all arguments of DataFrame.drop except for the argument 'labels' will be keyword-only\n",
            "\n"
          ]
        }
      ]
    },
    {
      "cell_type": "markdown",
      "source": [
        "# F1 con parametros por default"
      ],
      "metadata": {
        "id": "LM999o6vMDjM"
      }
    },
    {
      "cell_type": "code",
      "source": [
        "from sklearn.model_selection import KFold\n",
        "from sklearn.model_selection import train_test_split\n",
        "from sklearn import linear_model\n",
        "from sklearn import model_selection\n",
        "from sklearn.metrics import f1_score\n",
        "from sklearn.metrics import classification_report\n",
        "from sklearn.preprocessing import StandardScaler\n",
        "\n",
        "X = np.array(newData)\n",
        "y = np.array(data['C'])\n",
        "\n"
      ],
      "metadata": {
        "id": "tkCy-v9y8Kxi"
      },
      "execution_count": 1111,
      "outputs": []
    },
    {
      "cell_type": "code",
      "source": [
        "model = linear_model.LogisticRegression()\n",
        "model.fit(X,y)"
      ],
      "metadata": {
        "colab": {
          "base_uri": "https://localhost:8080/"
        },
        "id": "-947EPzCCZX9",
        "outputId": "a1e994a4-8e0f-47c4-a0f1-d5b88e24184d"
      },
      "execution_count": 1112,
      "outputs": [
        {
          "output_type": "execute_result",
          "data": {
            "text/plain": [
              "LogisticRegression()"
            ]
          },
          "metadata": {},
          "execution_count": 1112
        }
      ]
    },
    {
      "cell_type": "code",
      "source": [
        "model.score(X,y)"
      ],
      "metadata": {
        "colab": {
          "base_uri": "https://localhost:8080/"
        },
        "id": "fteCNcPfHun4",
        "outputId": "f5981e20-e33e-44df-8ce4-623cf0f083bc"
      },
      "execution_count": 1113,
      "outputs": [
        {
          "output_type": "execute_result",
          "data": {
            "text/plain": [
              "0.8222413316544332"
            ]
          },
          "metadata": {},
          "execution_count": 1113
        }
      ]
    },
    {
      "cell_type": "code",
      "source": [
        "validation_size = 0.30\n",
        "seed = 7\n",
        "X_train, X_validation, Y_train, Y_validation = train_test_split(X, y, test_size=validation_size, random_state=seed)"
      ],
      "metadata": {
        "id": "71jFMyItIHCT"
      },
      "execution_count": 1114,
      "outputs": []
    },
    {
      "cell_type": "code",
      "source": [
        "print(X_train.shape, Y_train.shape)\n",
        "print(X_validation.shape, Y_validation.shape)"
      ],
      "metadata": {
        "colab": {
          "base_uri": "https://localhost:8080/"
        },
        "id": "Y1X_Q57TIKFc",
        "outputId": "505469d4-0d10-46dd-b0d0-b0a10da6803a"
      },
      "execution_count": 1115,
      "outputs": [
        {
          "output_type": "stream",
          "name": "stdout",
          "text": [
            "(22792, 14) (22792,)\n",
            "(9769, 14) (9769,)\n"
          ]
        }
      ]
    },
    {
      "cell_type": "code",
      "source": [
        "name='Logistic Regression'\n",
        "kfold = model_selection.KFold(n_splits=5, random_state=seed, shuffle = True)\n",
        "cv_results = model_selection.cross_val_score(model, X_train, Y_train, cv=kfold, scoring='f1')\n",
        "msg = \"%s: %f (%f)\" % (name, cv_results.mean(), cv_results.std())\n",
        "print(msg)"
      ],
      "metadata": {
        "id": "AL2RW9oDDq5o",
        "colab": {
          "base_uri": "https://localhost:8080/"
        },
        "outputId": "b6b28b46-b177-4427-84bf-31944061381a"
      },
      "execution_count": 1116,
      "outputs": [
        {
          "output_type": "stream",
          "name": "stdout",
          "text": [
            "Logistic Regression: 0.535304 (0.014323)\n"
          ]
        }
      ]
    },
    {
      "cell_type": "code",
      "source": [
        "predictions = model.predict(X_validation)\n",
        "print(f1_score(Y_validation, predictions))"
      ],
      "metadata": {
        "colab": {
          "base_uri": "https://localhost:8080/"
        },
        "id": "XBwYw2ADt52-",
        "outputId": "03b2dfe4-ad49-4f17-cc07-9e334a9157f3"
      },
      "execution_count": 1117,
      "outputs": [
        {
          "output_type": "stream",
          "name": "stdout",
          "text": [
            "0.532695374800638\n"
          ]
        }
      ]
    },
    {
      "cell_type": "code",
      "source": [
        "print(classification_report(Y_validation, predictions))"
      ],
      "metadata": {
        "colab": {
          "base_uri": "https://localhost:8080/"
        },
        "id": "-K8AEsBQvJAG",
        "outputId": "cef00d0e-5e71-434f-c96c-a3611da8ae50"
      },
      "execution_count": 1118,
      "outputs": [
        {
          "output_type": "stream",
          "name": "stdout",
          "text": [
            "              precision    recall  f1-score   support\n",
            "\n",
            "           0       0.84      0.95      0.89      7413\n",
            "           1       0.71      0.43      0.53      2356\n",
            "\n",
            "    accuracy                           0.82      9769\n",
            "   macro avg       0.78      0.69      0.71      9769\n",
            "weighted avg       0.81      0.82      0.80      9769\n",
            "\n"
          ]
        }
      ]
    },
    {
      "cell_type": "markdown",
      "source": [
        "# F1 con balanceo y K-folds"
      ],
      "metadata": {
        "id": "fV9_5PlLSk7g"
      }
    },
    {
      "cell_type": "markdown",
      "source": [
        "**balanceo por parametros de la regresion logistica**"
      ],
      "metadata": {
        "id": "hU0EIvICpeRX"
      }
    },
    {
      "cell_type": "code",
      "source": [
        "print(data['C'].value_counts()) "
      ],
      "metadata": {
        "colab": {
          "base_uri": "https://localhost:8080/"
        },
        "id": "JMtRUOJCVLaV",
        "outputId": "ad152e53-8395-4174-bcbb-8fef15d3e23b"
      },
      "execution_count": 1119,
      "outputs": [
        {
          "output_type": "stream",
          "name": "stdout",
          "text": [
            "0    24720\n",
            "1     7841\n",
            "Name: C, dtype: int64\n"
          ]
        }
      ]
    },
    {
      "cell_type": "code",
      "source": [
        "from imblearn.under_sampling import NearMiss\n",
        "from imblearn.over_sampling import RandomOverSampler\n",
        "from imblearn.combine import SMOTETomek\n",
        "from imblearn.ensemble import BalancedBaggingClassifier\n",
        "from imblearn.under_sampling import RandomUnderSampler\n",
        "from collections import Counter"
      ],
      "metadata": {
        "id": "0y8s17vAVMY1"
      },
      "execution_count": 1120,
      "outputs": []
    },
    {
      "cell_type": "code",
      "source": [
        "\"weight = “balanced” y con esto el algoritmo se encargará de equilibrar a la clase minoritaria durante el entrenamiento.\"\n",
        "\n",
        "def run_model_balanced(X_train, X_test, y_train, y_test):\n",
        "    clf = LogisticRegression(class_weight=\"balanced\")\n",
        "    clf.fit(X_train, y_train)\n",
        "    return clf\n",
        "\n",
        "model = run_model_balanced(X_train, X_validation, Y_train, Y_validation)\n",
        "\n",
        "\n",
        "kfold = model_selection.KFold(n_splits=5, random_state=seed, shuffle = True)\n",
        "cv_results = model_selection.cross_val_score(model, X_train, Y_train, cv=kfold, scoring='f1')\n",
        "msg = \"%s: %f (%f)\" % (name, cv_results.mean(), cv_results.std())\n",
        "print(msg)\n",
        "\n",
        "predictions = model.predict(X_validation)\n",
        "print(f1_score(Y_validation, predictions))\n",
        "\n",
        "print(classification_report(Y_validation, predictions))\n"
      ],
      "metadata": {
        "colab": {
          "base_uri": "https://localhost:8080/"
        },
        "id": "pyRjZBDIYemX",
        "outputId": "53d427c4-d5d0-4523-c6fb-f2292a4ab32b"
      },
      "execution_count": 1121,
      "outputs": [
        {
          "output_type": "stream",
          "name": "stdout",
          "text": [
            "Logistic Regression: 0.611098 (0.012995)\n",
            "0.6076896903708745\n",
            "              precision    recall  f1-score   support\n",
            "\n",
            "           0       0.91      0.77      0.83      7413\n",
            "           1       0.51      0.76      0.61      2356\n",
            "\n",
            "    accuracy                           0.76      9769\n",
            "   macro avg       0.71      0.76      0.72      9769\n",
            "weighted avg       0.81      0.76      0.78      9769\n",
            "\n"
          ]
        }
      ]
    },
    {
      "cell_type": "markdown",
      "source": [
        "**Eliminacion de los datos**"
      ],
      "metadata": {
        "id": "8QmyYBcdpmvP"
      }
    },
    {
      "cell_type": "code",
      "source": [
        "rus = RandomUnderSampler()\n",
        "nm = NearMiss()\n",
        "dataRus, targetRus = rus.fit_resample(data, data['C'])\n",
        "validation_size = 0.30\n",
        "seed = 7\n",
        "X_train2, X_validation2, Y_train2, Y_validation2 = train_test_split(dataRus, targetRus, test_size=validation_size, random_state=seed)\n",
        "\n",
        "model = run_model_balanced(X_train2, X_validation2, Y_train2, Y_validation2)\n",
        "\n",
        "kfold = model_selection.KFold(n_splits=5, random_state=seed, shuffle = True)\n",
        "cv_results = model_selection.cross_val_score(model, X_train2, Y_train2, cv=kfold, scoring='f1')\n",
        "msg = \"%s: %f (%f)\" % (name, cv_results.mean(), cv_results.std())\n",
        "print(msg)\n",
        "\n",
        "predictions = model.predict(X_validation2)\n",
        "print(f1_score(Y_validation2, predictions))\n",
        "\n",
        "print(classification_report(Y_validation2, predictions))"
      ],
      "metadata": {
        "colab": {
          "base_uri": "https://localhost:8080/"
        },
        "id": "_IWTbSueaU0-",
        "outputId": "0bb611cf-ec7e-4760-f4db-e273031f5d7f"
      },
      "execution_count": 1122,
      "outputs": [
        {
          "output_type": "stream",
          "name": "stdout",
          "text": [
            "Logistic Regression: 0.594799 (0.024028)\n",
            "0.6120071684587813\n",
            "              precision    recall  f1-score   support\n",
            "\n",
            "           0       0.61      0.69      0.65      2324\n",
            "           1       0.66      0.57      0.61      2381\n",
            "\n",
            "    accuracy                           0.63      4705\n",
            "   macro avg       0.63      0.63      0.63      4705\n",
            "weighted avg       0.63      0.63      0.63      4705\n",
            "\n"
          ]
        }
      ]
    },
    {
      "cell_type": "code",
      "source": [
        "dataNm, targetNm = nm.fit_resample(data, data['C'])\n",
        "validation_size = 0.30\n",
        "seed = 7\n",
        "X_train2, X_validation2, Y_train2, Y_validation2 = train_test_split(dataRus, targetRus, test_size=validation_size, random_state=seed)\n",
        "\n",
        "model = run_model_balanced(X_train2, X_validation2, Y_train2, Y_validation2)\n",
        "\n",
        "kfold = model_selection.KFold(n_splits=5, random_state=seed, shuffle = True)\n",
        "cv_results = model_selection.cross_val_score(model, X_train2, Y_train2, cv=kfold, scoring='f1')\n",
        "msg = \"%s: %f (%f)\" % (name, cv_results.mean(), cv_results.std())\n",
        "print(msg)\n",
        "\n",
        "predictions = model.predict(X_validation2)\n",
        "print(f1_score(Y_validation2, predictions))\n",
        "\n",
        "print(classification_report(Y_validation2, predictions))"
      ],
      "metadata": {
        "colab": {
          "base_uri": "https://localhost:8080/"
        },
        "id": "Bf17nBjao7ry",
        "outputId": "24273778-e8f4-4388-8344-194f9b15e6ce"
      },
      "execution_count": 1123,
      "outputs": [
        {
          "output_type": "stream",
          "name": "stdout",
          "text": [
            "Logistic Regression: 0.594799 (0.024028)\n",
            "0.6120071684587813\n",
            "              precision    recall  f1-score   support\n",
            "\n",
            "           0       0.61      0.69      0.65      2324\n",
            "           1       0.66      0.57      0.61      2381\n",
            "\n",
            "    accuracy                           0.63      4705\n",
            "   macro avg       0.63      0.63      0.63      4705\n",
            "weighted avg       0.63      0.63      0.63      4705\n",
            "\n"
          ]
        }
      ]
    },
    {
      "cell_type": "markdown",
      "source": [
        "**aumento de muestras**"
      ],
      "metadata": {
        "id": "TnymvrYypuoh"
      }
    },
    {
      "cell_type": "code",
      "source": [],
      "metadata": {
        "id": "56nHi1Empb1L"
      },
      "execution_count": 1123,
      "outputs": []
    }
  ],
  "metadata": {
    "kernelspec": {
      "display_name": "Python 3",
      "language": "python",
      "name": "python3"
    },
    "language_info": {
      "codemirror_mode": {
        "name": "ipython",
        "version": 3
      },
      "file_extension": ".py",
      "mimetype": "text/x-python",
      "name": "python",
      "nbconvert_exporter": "python",
      "pygments_lexer": "ipython3",
      "version": "3.7.3"
    },
    "colab": {
      "provenance": [],
      "include_colab_link": true
    }
  },
  "nbformat": 4,
  "nbformat_minor": 0
}