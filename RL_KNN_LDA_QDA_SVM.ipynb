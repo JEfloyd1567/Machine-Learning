{
  "nbformat": 4,
  "nbformat_minor": 0,
  "metadata": {
    "colab": {
      "provenance": []
    },
    "kernelspec": {
      "name": "python3",
      "display_name": "Python 3"
    },
    "language_info": {
      "name": "python"
    }
  },
  "cells": [
    {
      "cell_type": "markdown",
      "source": [
        "# **Dataset y tratamiento**\n",
        "\n"
      ],
      "metadata": {
        "id": "v_UKHPzDTnkd"
      }
    },
    {
      "cell_type": "code",
      "execution_count": null,
      "metadata": {
        "id": "evOMJFAUpBPh",
        "outputId": "1b60e339-a688-453f-cc79-d64bc131fd61",
        "colab": {
          "base_uri": "https://localhost:8080/",
          "height": 467
        }
      },
      "outputs": [
        {
          "output_type": "execute_result",
          "data": {
            "text/plain": [
              "       Age          Workclass  Fnlwgt    Education  Education-num  \\\n",
              "0       39          State-gov   77516    Bachelors             13   \n",
              "1       50   Self-emp-not-inc   83311    Bachelors             13   \n",
              "2       38            Private  215646      HS-grad              9   \n",
              "3       53            Private  234721         11th              7   \n",
              "4       28            Private  338409    Bachelors             13   \n",
              "...    ...                ...     ...          ...            ...   \n",
              "32556   27            Private  257302   Assoc-acdm             12   \n",
              "32557   40            Private  154374      HS-grad              9   \n",
              "32558   58            Private  151910      HS-grad              9   \n",
              "32559   22            Private  201490      HS-grad              9   \n",
              "32560   52       Self-emp-inc  287927      HS-grad              9   \n",
              "\n",
              "            Marital-status          Occupation    Relationship    Race  \\\n",
              "0            Never-married        Adm-clerical   Not-in-family   White   \n",
              "1       Married-civ-spouse     Exec-managerial         Husband   White   \n",
              "2                 Divorced   Handlers-cleaners   Not-in-family   White   \n",
              "3       Married-civ-spouse   Handlers-cleaners         Husband   Black   \n",
              "4       Married-civ-spouse      Prof-specialty            Wife   Black   \n",
              "...                    ...                 ...             ...     ...   \n",
              "32556   Married-civ-spouse        Tech-support            Wife   White   \n",
              "32557   Married-civ-spouse   Machine-op-inspct         Husband   White   \n",
              "32558              Widowed        Adm-clerical       Unmarried   White   \n",
              "32559        Never-married        Adm-clerical       Own-child   White   \n",
              "32560   Married-civ-spouse     Exec-managerial            Wife   White   \n",
              "\n",
              "           Sex  Capital-gain  Capital-loss  Hpw         Country       C  \n",
              "0         Male          2174             0   40   United-States   <=50K  \n",
              "1         Male             0             0   13   United-States   <=50K  \n",
              "2         Male             0             0   40   United-States   <=50K  \n",
              "3         Male             0             0   40   United-States   <=50K  \n",
              "4       Female             0             0   40            Cuba   <=50K  \n",
              "...        ...           ...           ...  ...             ...     ...  \n",
              "32556   Female             0             0   38   United-States   <=50K  \n",
              "32557     Male             0             0   40   United-States    >50K  \n",
              "32558   Female             0             0   40   United-States   <=50K  \n",
              "32559     Male             0             0   20   United-States   <=50K  \n",
              "32560   Female         15024             0   40   United-States    >50K  \n",
              "\n",
              "[32561 rows x 15 columns]"
            ],
            "text/html": [
              "\n",
              "  <div id=\"df-848931aa-36c5-40c0-b341-0b7df59b8864\">\n",
              "    <div class=\"colab-df-container\">\n",
              "      <div>\n",
              "<style scoped>\n",
              "    .dataframe tbody tr th:only-of-type {\n",
              "        vertical-align: middle;\n",
              "    }\n",
              "\n",
              "    .dataframe tbody tr th {\n",
              "        vertical-align: top;\n",
              "    }\n",
              "\n",
              "    .dataframe thead th {\n",
              "        text-align: right;\n",
              "    }\n",
              "</style>\n",
              "<table border=\"1\" class=\"dataframe\">\n",
              "  <thead>\n",
              "    <tr style=\"text-align: right;\">\n",
              "      <th></th>\n",
              "      <th>Age</th>\n",
              "      <th>Workclass</th>\n",
              "      <th>Fnlwgt</th>\n",
              "      <th>Education</th>\n",
              "      <th>Education-num</th>\n",
              "      <th>Marital-status</th>\n",
              "      <th>Occupation</th>\n",
              "      <th>Relationship</th>\n",
              "      <th>Race</th>\n",
              "      <th>Sex</th>\n",
              "      <th>Capital-gain</th>\n",
              "      <th>Capital-loss</th>\n",
              "      <th>Hpw</th>\n",
              "      <th>Country</th>\n",
              "      <th>C</th>\n",
              "    </tr>\n",
              "  </thead>\n",
              "  <tbody>\n",
              "    <tr>\n",
              "      <th>0</th>\n",
              "      <td>39</td>\n",
              "      <td>State-gov</td>\n",
              "      <td>77516</td>\n",
              "      <td>Bachelors</td>\n",
              "      <td>13</td>\n",
              "      <td>Never-married</td>\n",
              "      <td>Adm-clerical</td>\n",
              "      <td>Not-in-family</td>\n",
              "      <td>White</td>\n",
              "      <td>Male</td>\n",
              "      <td>2174</td>\n",
              "      <td>0</td>\n",
              "      <td>40</td>\n",
              "      <td>United-States</td>\n",
              "      <td>&lt;=50K</td>\n",
              "    </tr>\n",
              "    <tr>\n",
              "      <th>1</th>\n",
              "      <td>50</td>\n",
              "      <td>Self-emp-not-inc</td>\n",
              "      <td>83311</td>\n",
              "      <td>Bachelors</td>\n",
              "      <td>13</td>\n",
              "      <td>Married-civ-spouse</td>\n",
              "      <td>Exec-managerial</td>\n",
              "      <td>Husband</td>\n",
              "      <td>White</td>\n",
              "      <td>Male</td>\n",
              "      <td>0</td>\n",
              "      <td>0</td>\n",
              "      <td>13</td>\n",
              "      <td>United-States</td>\n",
              "      <td>&lt;=50K</td>\n",
              "    </tr>\n",
              "    <tr>\n",
              "      <th>2</th>\n",
              "      <td>38</td>\n",
              "      <td>Private</td>\n",
              "      <td>215646</td>\n",
              "      <td>HS-grad</td>\n",
              "      <td>9</td>\n",
              "      <td>Divorced</td>\n",
              "      <td>Handlers-cleaners</td>\n",
              "      <td>Not-in-family</td>\n",
              "      <td>White</td>\n",
              "      <td>Male</td>\n",
              "      <td>0</td>\n",
              "      <td>0</td>\n",
              "      <td>40</td>\n",
              "      <td>United-States</td>\n",
              "      <td>&lt;=50K</td>\n",
              "    </tr>\n",
              "    <tr>\n",
              "      <th>3</th>\n",
              "      <td>53</td>\n",
              "      <td>Private</td>\n",
              "      <td>234721</td>\n",
              "      <td>11th</td>\n",
              "      <td>7</td>\n",
              "      <td>Married-civ-spouse</td>\n",
              "      <td>Handlers-cleaners</td>\n",
              "      <td>Husband</td>\n",
              "      <td>Black</td>\n",
              "      <td>Male</td>\n",
              "      <td>0</td>\n",
              "      <td>0</td>\n",
              "      <td>40</td>\n",
              "      <td>United-States</td>\n",
              "      <td>&lt;=50K</td>\n",
              "    </tr>\n",
              "    <tr>\n",
              "      <th>4</th>\n",
              "      <td>28</td>\n",
              "      <td>Private</td>\n",
              "      <td>338409</td>\n",
              "      <td>Bachelors</td>\n",
              "      <td>13</td>\n",
              "      <td>Married-civ-spouse</td>\n",
              "      <td>Prof-specialty</td>\n",
              "      <td>Wife</td>\n",
              "      <td>Black</td>\n",
              "      <td>Female</td>\n",
              "      <td>0</td>\n",
              "      <td>0</td>\n",
              "      <td>40</td>\n",
              "      <td>Cuba</td>\n",
              "      <td>&lt;=50K</td>\n",
              "    </tr>\n",
              "    <tr>\n",
              "      <th>...</th>\n",
              "      <td>...</td>\n",
              "      <td>...</td>\n",
              "      <td>...</td>\n",
              "      <td>...</td>\n",
              "      <td>...</td>\n",
              "      <td>...</td>\n",
              "      <td>...</td>\n",
              "      <td>...</td>\n",
              "      <td>...</td>\n",
              "      <td>...</td>\n",
              "      <td>...</td>\n",
              "      <td>...</td>\n",
              "      <td>...</td>\n",
              "      <td>...</td>\n",
              "      <td>...</td>\n",
              "    </tr>\n",
              "    <tr>\n",
              "      <th>32556</th>\n",
              "      <td>27</td>\n",
              "      <td>Private</td>\n",
              "      <td>257302</td>\n",
              "      <td>Assoc-acdm</td>\n",
              "      <td>12</td>\n",
              "      <td>Married-civ-spouse</td>\n",
              "      <td>Tech-support</td>\n",
              "      <td>Wife</td>\n",
              "      <td>White</td>\n",
              "      <td>Female</td>\n",
              "      <td>0</td>\n",
              "      <td>0</td>\n",
              "      <td>38</td>\n",
              "      <td>United-States</td>\n",
              "      <td>&lt;=50K</td>\n",
              "    </tr>\n",
              "    <tr>\n",
              "      <th>32557</th>\n",
              "      <td>40</td>\n",
              "      <td>Private</td>\n",
              "      <td>154374</td>\n",
              "      <td>HS-grad</td>\n",
              "      <td>9</td>\n",
              "      <td>Married-civ-spouse</td>\n",
              "      <td>Machine-op-inspct</td>\n",
              "      <td>Husband</td>\n",
              "      <td>White</td>\n",
              "      <td>Male</td>\n",
              "      <td>0</td>\n",
              "      <td>0</td>\n",
              "      <td>40</td>\n",
              "      <td>United-States</td>\n",
              "      <td>&gt;50K</td>\n",
              "    </tr>\n",
              "    <tr>\n",
              "      <th>32558</th>\n",
              "      <td>58</td>\n",
              "      <td>Private</td>\n",
              "      <td>151910</td>\n",
              "      <td>HS-grad</td>\n",
              "      <td>9</td>\n",
              "      <td>Widowed</td>\n",
              "      <td>Adm-clerical</td>\n",
              "      <td>Unmarried</td>\n",
              "      <td>White</td>\n",
              "      <td>Female</td>\n",
              "      <td>0</td>\n",
              "      <td>0</td>\n",
              "      <td>40</td>\n",
              "      <td>United-States</td>\n",
              "      <td>&lt;=50K</td>\n",
              "    </tr>\n",
              "    <tr>\n",
              "      <th>32559</th>\n",
              "      <td>22</td>\n",
              "      <td>Private</td>\n",
              "      <td>201490</td>\n",
              "      <td>HS-grad</td>\n",
              "      <td>9</td>\n",
              "      <td>Never-married</td>\n",
              "      <td>Adm-clerical</td>\n",
              "      <td>Own-child</td>\n",
              "      <td>White</td>\n",
              "      <td>Male</td>\n",
              "      <td>0</td>\n",
              "      <td>0</td>\n",
              "      <td>20</td>\n",
              "      <td>United-States</td>\n",
              "      <td>&lt;=50K</td>\n",
              "    </tr>\n",
              "    <tr>\n",
              "      <th>32560</th>\n",
              "      <td>52</td>\n",
              "      <td>Self-emp-inc</td>\n",
              "      <td>287927</td>\n",
              "      <td>HS-grad</td>\n",
              "      <td>9</td>\n",
              "      <td>Married-civ-spouse</td>\n",
              "      <td>Exec-managerial</td>\n",
              "      <td>Wife</td>\n",
              "      <td>White</td>\n",
              "      <td>Female</td>\n",
              "      <td>15024</td>\n",
              "      <td>0</td>\n",
              "      <td>40</td>\n",
              "      <td>United-States</td>\n",
              "      <td>&gt;50K</td>\n",
              "    </tr>\n",
              "  </tbody>\n",
              "</table>\n",
              "<p>32561 rows × 15 columns</p>\n",
              "</div>\n",
              "      <button class=\"colab-df-convert\" onclick=\"convertToInteractive('df-848931aa-36c5-40c0-b341-0b7df59b8864')\"\n",
              "              title=\"Convert this dataframe to an interactive table.\"\n",
              "              style=\"display:none;\">\n",
              "        \n",
              "  <svg xmlns=\"http://www.w3.org/2000/svg\" height=\"24px\"viewBox=\"0 0 24 24\"\n",
              "       width=\"24px\">\n",
              "    <path d=\"M0 0h24v24H0V0z\" fill=\"none\"/>\n",
              "    <path d=\"M18.56 5.44l.94 2.06.94-2.06 2.06-.94-2.06-.94-.94-2.06-.94 2.06-2.06.94zm-11 1L8.5 8.5l.94-2.06 2.06-.94-2.06-.94L8.5 2.5l-.94 2.06-2.06.94zm10 10l.94 2.06.94-2.06 2.06-.94-2.06-.94-.94-2.06-.94 2.06-2.06.94z\"/><path d=\"M17.41 7.96l-1.37-1.37c-.4-.4-.92-.59-1.43-.59-.52 0-1.04.2-1.43.59L10.3 9.45l-7.72 7.72c-.78.78-.78 2.05 0 2.83L4 21.41c.39.39.9.59 1.41.59.51 0 1.02-.2 1.41-.59l7.78-7.78 2.81-2.81c.8-.78.8-2.07 0-2.86zM5.41 20L4 18.59l7.72-7.72 1.47 1.35L5.41 20z\"/>\n",
              "  </svg>\n",
              "      </button>\n",
              "      \n",
              "  <style>\n",
              "    .colab-df-container {\n",
              "      display:flex;\n",
              "      flex-wrap:wrap;\n",
              "      gap: 12px;\n",
              "    }\n",
              "\n",
              "    .colab-df-convert {\n",
              "      background-color: #E8F0FE;\n",
              "      border: none;\n",
              "      border-radius: 50%;\n",
              "      cursor: pointer;\n",
              "      display: none;\n",
              "      fill: #1967D2;\n",
              "      height: 32px;\n",
              "      padding: 0 0 0 0;\n",
              "      width: 32px;\n",
              "    }\n",
              "\n",
              "    .colab-df-convert:hover {\n",
              "      background-color: #E2EBFA;\n",
              "      box-shadow: 0px 1px 2px rgba(60, 64, 67, 0.3), 0px 1px 3px 1px rgba(60, 64, 67, 0.15);\n",
              "      fill: #174EA6;\n",
              "    }\n",
              "\n",
              "    [theme=dark] .colab-df-convert {\n",
              "      background-color: #3B4455;\n",
              "      fill: #D2E3FC;\n",
              "    }\n",
              "\n",
              "    [theme=dark] .colab-df-convert:hover {\n",
              "      background-color: #434B5C;\n",
              "      box-shadow: 0px 1px 3px 1px rgba(0, 0, 0, 0.15);\n",
              "      filter: drop-shadow(0px 1px 2px rgba(0, 0, 0, 0.3));\n",
              "      fill: #FFFFFF;\n",
              "    }\n",
              "  </style>\n",
              "\n",
              "      <script>\n",
              "        const buttonEl =\n",
              "          document.querySelector('#df-848931aa-36c5-40c0-b341-0b7df59b8864 button.colab-df-convert');\n",
              "        buttonEl.style.display =\n",
              "          google.colab.kernel.accessAllowed ? 'block' : 'none';\n",
              "\n",
              "        async function convertToInteractive(key) {\n",
              "          const element = document.querySelector('#df-848931aa-36c5-40c0-b341-0b7df59b8864');\n",
              "          const dataTable =\n",
              "            await google.colab.kernel.invokeFunction('convertToInteractive',\n",
              "                                                     [key], {});\n",
              "          if (!dataTable) return;\n",
              "\n",
              "          const docLinkHtml = 'Like what you see? Visit the ' +\n",
              "            '<a target=\"_blank\" href=https://colab.research.google.com/notebooks/data_table.ipynb>data table notebook</a>'\n",
              "            + ' to learn more about interactive tables.';\n",
              "          element.innerHTML = '';\n",
              "          dataTable['output_type'] = 'display_data';\n",
              "          await google.colab.output.renderOutput(dataTable, element);\n",
              "          const docLink = document.createElement('div');\n",
              "          docLink.innerHTML = docLinkHtml;\n",
              "          element.appendChild(docLink);\n",
              "        }\n",
              "      </script>\n",
              "    </div>\n",
              "  </div>\n",
              "  "
            ]
          },
          "metadata": {},
          "execution_count": 1
        }
      ],
      "source": [
        "import numpy as np\n",
        "import pandas as pd\n",
        "import seaborn as sns\n",
        "import matplotlib.pyplot as plt\n",
        "from sklearn import preprocessing\n",
        "import scipy.stats as stats\n",
        "from sklearn.compose import ColumnTransformer\n",
        "from sklearn.model_selection import train_test_split\n",
        "from sklearn.linear_model import LogisticRegression\n",
        "from sklearn import metrics\n",
        "from sklearn import preprocessing\n",
        "from sklearn.metrics import classification_report\n",
        "from sklearn.preprocessing import LabelEncoder\n",
        "\n",
        "url=\"https://archive.ics.uci.edu/ml/machine-learning-databases/adult/adult.data\"\n",
        "data = pd.read_csv(url, header=None, na_values=\" ?\")\n",
        "\n",
        "#Ponemos nombre a las columnas (Esta información se toma del archivo original adult.names que está en el \n",
        "#repositorio junto con el archivo de datos)\n",
        "data.columns = ['Age', 'Workclass', 'Fnlwgt', 'Education', 'Education-num', 'Marital-status', 'Occupation',\n",
        "              'Relationship', 'Race', 'Sex', 'Capital-gain', 'Capital-loss', 'Hpw', 'Country', 'C']\n",
        "data"
      ]
    },
    {
      "cell_type": "code",
      "source": [
        "labelencoder= LabelEncoder()\n",
        "data['C']=labelencoder.fit_transform(data['C'])"
      ],
      "metadata": {
        "id": "uR7q7OaTSu-B"
      },
      "execution_count": null,
      "outputs": []
    },
    {
      "cell_type": "code",
      "source": [
        "#Cuál es el número de registros?\n",
        "#Cuál es el número de atributos?\n",
        "\n",
        "shape = data.shape\n",
        "shape"
      ],
      "metadata": {
        "colab": {
          "base_uri": "https://localhost:8080/"
        },
        "id": "Yro4mp7QSxUg",
        "outputId": "963b8235-4d1e-4ea4-fe34-a83907da5463"
      },
      "execution_count": null,
      "outputs": [
        {
          "output_type": "execute_result",
          "data": {
            "text/plain": [
              "(32561, 15)"
            ]
          },
          "metadata": {},
          "execution_count": 3
        }
      ]
    },
    {
      "cell_type": "code",
      "source": [
        "#Cual es el tipo de los atributos?\n",
        "data. dtypes"
      ],
      "metadata": {
        "colab": {
          "base_uri": "https://localhost:8080/"
        },
        "id": "kHF-8RJTSzJ_",
        "outputId": "c6559ac2-c85f-45bc-dfe9-dcdd8585cfbd"
      },
      "execution_count": null,
      "outputs": [
        {
          "output_type": "execute_result",
          "data": {
            "text/plain": [
              "Age                int64\n",
              "Workclass         object\n",
              "Fnlwgt             int64\n",
              "Education         object\n",
              "Education-num      int64\n",
              "Marital-status    object\n",
              "Occupation        object\n",
              "Relationship      object\n",
              "Race              object\n",
              "Sex               object\n",
              "Capital-gain       int64\n",
              "Capital-loss       int64\n",
              "Hpw                int64\n",
              "Country           object\n",
              "C                  int64\n",
              "dtype: object"
            ]
          },
          "metadata": {},
          "execution_count": 4
        }
      ]
    },
    {
      "cell_type": "code",
      "source": [
        "lista_categoricos = ['Workclass', 'Education', 'Marital-status', 'Occupation', 'Relationship', 'Race', 'Sex', 'Country']\n",
        "lista_numericos = ['Age', 'Fnlwgt','Education-num','Capital-gain','Capital-loss', 'Hpw']"
      ],
      "metadata": {
        "id": "TmX7Kq1aUtMs"
      },
      "execution_count": null,
      "outputs": []
    },
    {
      "cell_type": "code",
      "source": [
        "#porcentaje datos nulos en variables\n",
        "(data.isnull().sum()/data.shape[0])*100"
      ],
      "metadata": {
        "colab": {
          "base_uri": "https://localhost:8080/"
        },
        "id": "GC0iZ4CxS2s9",
        "outputId": "211d7ec0-620e-4046-fc5d-071a169b430e"
      },
      "execution_count": null,
      "outputs": [
        {
          "output_type": "execute_result",
          "data": {
            "text/plain": [
              "Age               0.000000\n",
              "Workclass         5.638647\n",
              "Fnlwgt            0.000000\n",
              "Education         0.000000\n",
              "Education-num     0.000000\n",
              "Marital-status    0.000000\n",
              "Occupation        5.660146\n",
              "Relationship      0.000000\n",
              "Race              0.000000\n",
              "Sex               0.000000\n",
              "Capital-gain      0.000000\n",
              "Capital-loss      0.000000\n",
              "Hpw               0.000000\n",
              "Country           1.790486\n",
              "C                 0.000000\n",
              "dtype: float64"
            ]
          },
          "metadata": {},
          "execution_count": 6
        }
      ]
    },
    {
      "cell_type": "code",
      "source": [
        "#Cuantos datos faltantes hay por cada atributo?\n",
        "data.isnull().sum()"
      ],
      "metadata": {
        "colab": {
          "base_uri": "https://localhost:8080/"
        },
        "id": "NLhD4WR3S4Sj",
        "outputId": "7824ce70-3c8d-4036-954d-a8951e07ba2d"
      },
      "execution_count": null,
      "outputs": [
        {
          "output_type": "execute_result",
          "data": {
            "text/plain": [
              "Age                  0\n",
              "Workclass         1836\n",
              "Fnlwgt               0\n",
              "Education            0\n",
              "Education-num        0\n",
              "Marital-status       0\n",
              "Occupation        1843\n",
              "Relationship         0\n",
              "Race                 0\n",
              "Sex                  0\n",
              "Capital-gain         0\n",
              "Capital-loss         0\n",
              "Hpw                  0\n",
              "Country            583\n",
              "C                    0\n",
              "dtype: int64"
            ]
          },
          "metadata": {},
          "execution_count": 7
        }
      ]
    },
    {
      "cell_type": "code",
      "source": [
        "#reemplazar datos nulos en numericos por la media y en categoricos por la moda\n",
        "data['Age'].fillna(data['Age'].median(), inplace=True)\n",
        "data['Workclass'].fillna(data['Workclass'].value_counts().index[0], inplace=True)\n",
        "data['Fnlwgt'].fillna(data['Fnlwgt'].median(), inplace=True)\n",
        "data['Education'].fillna(data['Education'].value_counts().index[0], inplace=True)\n",
        "data['Education-num'].fillna(data['Education-num'].median(), inplace=True)\n",
        "data['Marital-status'].fillna(data['Marital-status'].value_counts().index[0], inplace=True)\n",
        "data['Occupation'].fillna(data['Occupation'].value_counts().index[0], inplace=True)\n",
        "data['Relationship'].fillna(data['Relationship'].value_counts().index[0], inplace=True)\n",
        "data['Race'].fillna(data['Race'].value_counts().index[0], inplace=True)\n",
        "data['Capital-gain'].fillna(data['Capital-gain'].median(), inplace=True)\n",
        "data['Capital-loss'].fillna(data['Capital-loss'].median(), inplace=True)\n",
        "data['Hpw'].fillna(data['Hpw'].median(), inplace=True)\n",
        "data['Country'].fillna(data['Country'].value_counts().index[0], inplace=True)"
      ],
      "metadata": {
        "id": "K-3_3NADS61p"
      },
      "execution_count": null,
      "outputs": []
    },
    {
      "cell_type": "code",
      "source": [
        "#Cuantos registros hay por cada clase? es decir, por cada valor del atributo de salida?\n",
        "print(data['C'].value_counts()) "
      ],
      "metadata": {
        "colab": {
          "base_uri": "https://localhost:8080/"
        },
        "id": "dC9KIKnLS8tI",
        "outputId": "291491de-fe54-44a2-82c3-c8b9cc31609b"
      },
      "execution_count": null,
      "outputs": [
        {
          "output_type": "stream",
          "name": "stdout",
          "text": [
            "0    24720\n",
            "1     7841\n",
            "Name: C, dtype: int64\n"
          ]
        }
      ]
    },
    {
      "cell_type": "code",
      "source": [
        "'''\n",
        "data['Workclass'] = encoder.fit_transform(data['Workclass']).toarray()\n",
        "data['Education'] = encoder.fit_transform(data['Education']).toarray()\n",
        "data['Marital-status'] = encoder.fit_transform(data['Marital-status']).toarray()\n",
        "data['Occupation'] = encoder.fit_transform(data['Occupation']).toarray()\n",
        "data['Relationship'] = encoder.fit_transform(data['Relationship']).toarray()\n",
        "data['Race'] = encoder.fit_transform(data['Race']).toarray()\n",
        "data['Sex'] = encoder.fit_transform(data['Sex']).toarray()\n",
        "'''"
      ],
      "metadata": {
        "colab": {
          "base_uri": "https://localhost:8080/",
          "height": 70
        },
        "id": "06nGqIfuOcr6",
        "outputId": "d6f937e1-4466-4f18-96a5-fb9de18a8411"
      },
      "execution_count": null,
      "outputs": [
        {
          "output_type": "execute_result",
          "data": {
            "text/plain": [
              "\"\\ndata['Workclass'] = encoder.fit_transform(data['Workclass']).toarray()\\ndata['Education'] = encoder.fit_transform(data['Education']).toarray()\\ndata['Marital-status'] = encoder.fit_transform(data['Marital-status']).toarray()\\ndata['Occupation'] = encoder.fit_transform(data['Occupation']).toarray()\\ndata['Relationship'] = encoder.fit_transform(data['Relationship']).toarray()\\ndata['Race'] = encoder.fit_transform(data['Race']).toarray()\\ndata['Sex'] = encoder.fit_transform(data['Sex']).toarray()\\n\""
            ],
            "application/vnd.google.colaboratory.intrinsic+json": {
              "type": "string"
            }
          },
          "metadata": {},
          "execution_count": 10
        }
      ]
    },
    {
      "cell_type": "code",
      "source": [
        "'''\n",
        "data['Workclass']=labelencoder.fit_transform(data['Workclass'])\n",
        "data['Education']=labelencoder.fit_transform(data['Education'])\n",
        "data['Marital-status']=labelencoder.fit_transform(data['Marital-status'])\n",
        "data['Occupation']=labelencoder.fit_transform(data['Occupation'])\n",
        "data['Relationship']=labelencoder.fit_transform(data['Relationship'])\n",
        "data['Race']=labelencoder.fit_transform(data['Race'])\n",
        "data['Sex']=labelencoder.fit_transform(data['Sex'])\n",
        "data['Country']=labelencoder.fit_transform(data['Country'])\n",
        "'''"
      ],
      "metadata": {
        "id": "4x84thmU3ejA",
        "colab": {
          "base_uri": "https://localhost:8080/",
          "height": 70
        },
        "outputId": "3b743bc1-09d0-41d3-c7d0-37bfe6b8b5a8"
      },
      "execution_count": null,
      "outputs": [
        {
          "output_type": "execute_result",
          "data": {
            "text/plain": [
              "\"\\ndata['Workclass']=labelencoder.fit_transform(data['Workclass'])\\ndata['Education']=labelencoder.fit_transform(data['Education'])\\ndata['Marital-status']=labelencoder.fit_transform(data['Marital-status'])\\ndata['Occupation']=labelencoder.fit_transform(data['Occupation'])\\ndata['Relationship']=labelencoder.fit_transform(data['Relationship'])\\ndata['Race']=labelencoder.fit_transform(data['Race'])\\ndata['Sex']=labelencoder.fit_transform(data['Sex'])\\ndata['Country']=labelencoder.fit_transform(data['Country'])\\n\""
            ],
            "application/vnd.google.colaboratory.intrinsic+json": {
              "type": "string"
            }
          },
          "metadata": {},
          "execution_count": 11
        }
      ]
    },
    {
      "cell_type": "code",
      "source": [
        "'''\n",
        "lista_categoricos = [data[\"Workclass\"], data[\"Education\"], data[\"Marital-status\"], data[\"Occupation\"], data[\"Relationship\"], data[\"Race\"], data[\"Sex\"], data[\"Country\"]] #categoricos ya codificados, encoder a los de tipo object\n",
        "#print(lista_categoricos)\n",
        "lista_fact = []\n",
        "for e in lista_categoricos:\n",
        "  aux, _ = pd.factorize(e)\n",
        "  lista_fact.append(aux)\n",
        "print(lista_fact)\n",
        "'''"
      ],
      "metadata": {
        "colab": {
          "base_uri": "https://localhost:8080/",
          "height": 70
        },
        "id": "ui9DjcvcS_9i",
        "outputId": "32ba69ce-29a6-49c0-ba99-d6d2e338ea52"
      },
      "execution_count": null,
      "outputs": [
        {
          "output_type": "execute_result",
          "data": {
            "text/plain": [
              "'\\nlista_categoricos = [data[\"Workclass\"], data[\"Education\"], data[\"Marital-status\"], data[\"Occupation\"], data[\"Relationship\"], data[\"Race\"], data[\"Sex\"], data[\"Country\"]] #categoricos ya codificados, encoder a los de tipo object\\n#print(lista_categoricos)\\nlista_fact = []\\nfor e in lista_categoricos:\\n  aux, _ = pd.factorize(e)\\n  lista_fact.append(aux)\\nprint(lista_fact)\\n'"
            ],
            "application/vnd.google.colaboratory.intrinsic+json": {
              "type": "string"
            }
          },
          "metadata": {},
          "execution_count": 12
        }
      ]
    },
    {
      "cell_type": "code",
      "source": [
        "'''\n",
        "data[\"Workclass\"] = lista_fact[0]\n",
        "data[\"Education\"] = lista_fact[1]\n",
        "data[\"Marital-status\"] = lista_fact[2]\n",
        "data[\"Occupation\"] = lista_fact[3]\n",
        "data[\"Relationship\"] = lista_fact[4]\n",
        "data[\"Race\"] = lista_fact[5]\n",
        "data[\"Sex\"] = lista_fact[6]\n",
        "data[\"Country\"] = lista_fact[7]\n",
        "'''"
      ],
      "metadata": {
        "id": "mwGZ75D3TT41",
        "colab": {
          "base_uri": "https://localhost:8080/",
          "height": 53
        },
        "outputId": "ba657607-0267-492b-8a90-562f7e6769fe"
      },
      "execution_count": null,
      "outputs": [
        {
          "output_type": "execute_result",
          "data": {
            "text/plain": [
              "'\\ndata[\"Workclass\"] = lista_fact[0]\\ndata[\"Education\"] = lista_fact[1]\\ndata[\"Marital-status\"] = lista_fact[2]\\ndata[\"Occupation\"] = lista_fact[3]\\ndata[\"Relationship\"] = lista_fact[4]\\ndata[\"Race\"] = lista_fact[5]\\ndata[\"Sex\"] = lista_fact[6]\\ndata[\"Country\"] = lista_fact[7]\\n'"
            ],
            "application/vnd.google.colaboratory.intrinsic+json": {
              "type": "string"
            }
          },
          "metadata": {},
          "execution_count": 13
        }
      ]
    },
    {
      "cell_type": "code",
      "source": [
        "from sklearn.preprocessing import MinMaxScaler\n",
        "from sklearn.preprocessing import StandardScaler\n",
        "from sklearn.preprocessing import RobustScaler\n",
        "from sklearn.preprocessing import MaxAbsScaler\n",
        "lista_categoricos = ['Workclass', 'Education', 'Marital-status', 'Occupation', 'Relationship', 'Race', 'Sex', 'Country']\n",
        "lista_numericos = ['Age', 'Fnlwgt','Education-num','Capital-gain','Capital-loss', 'Hpw']\n",
        "scaler = MinMaxScaler()\n",
        "#scaler = StandardScaler()\n",
        "#transformer = RobustScaler().fit(data.drop(['C'], 1))\n",
        "#transformer = MaxAbsScaler().fit(data.drop(['C'], 1))\n",
        "newData = data.drop(['C'], 1)\n",
        "newData[lista_numericos] = scaler.fit_transform(newData[lista_numericos])\n",
        "#newData['Fnlwgt'] = scaler.fit_transform(newData['Fnlwgt'])\n",
        "#newData['Education-num'] = scaler.fit_transform(newData['Education-num'])\n",
        "#newData['Capital-gain'] = scaler.fit_transform(['Capital-gain'])\n",
        "#newData['Capital-loss'] = scaler.fit_transform(['Capital-loss'])\n",
        "#newData['Hpw'] = scaler.fit_transform(newData['Hpw'])\n",
        "#for i in lista_numericos:\n",
        "print(newData)\n",
        "#  newData[i] = scaler.fit_transform(newData)\n",
        "#newData = scaler.fit_transform(data.drop(['C'], 1))\n",
        "#newData = transformer.transform(data.drop(['C'], 1))\n"
      ],
      "metadata": {
        "colab": {
          "base_uri": "https://localhost:8080/"
        },
        "id": "4XErgZ1ITeIP",
        "outputId": "c6c20a8e-57d3-44ef-cb7d-7840e5050e5f"
      },
      "execution_count": null,
      "outputs": [
        {
          "output_type": "stream",
          "name": "stdout",
          "text": [
            "            Age          Workclass    Fnlwgt    Education  Education-num  \\\n",
            "0      0.301370          State-gov  0.044302    Bachelors       0.800000   \n",
            "1      0.452055   Self-emp-not-inc  0.048238    Bachelors       0.800000   \n",
            "2      0.287671            Private  0.138113      HS-grad       0.533333   \n",
            "3      0.493151            Private  0.151068         11th       0.400000   \n",
            "4      0.150685            Private  0.221488    Bachelors       0.800000   \n",
            "...         ...                ...       ...          ...            ...   \n",
            "32556  0.136986            Private  0.166404   Assoc-acdm       0.733333   \n",
            "32557  0.315068            Private  0.096500      HS-grad       0.533333   \n",
            "32558  0.561644            Private  0.094827      HS-grad       0.533333   \n",
            "32559  0.068493            Private  0.128499      HS-grad       0.533333   \n",
            "32560  0.479452       Self-emp-inc  0.187203      HS-grad       0.533333   \n",
            "\n",
            "            Marital-status          Occupation    Relationship    Race  \\\n",
            "0            Never-married        Adm-clerical   Not-in-family   White   \n",
            "1       Married-civ-spouse     Exec-managerial         Husband   White   \n",
            "2                 Divorced   Handlers-cleaners   Not-in-family   White   \n",
            "3       Married-civ-spouse   Handlers-cleaners         Husband   Black   \n",
            "4       Married-civ-spouse      Prof-specialty            Wife   Black   \n",
            "...                    ...                 ...             ...     ...   \n",
            "32556   Married-civ-spouse        Tech-support            Wife   White   \n",
            "32557   Married-civ-spouse   Machine-op-inspct         Husband   White   \n",
            "32558              Widowed        Adm-clerical       Unmarried   White   \n",
            "32559        Never-married        Adm-clerical       Own-child   White   \n",
            "32560   Married-civ-spouse     Exec-managerial            Wife   White   \n",
            "\n",
            "           Sex  Capital-gain  Capital-loss       Hpw         Country  \n",
            "0         Male      0.021740           0.0  0.397959   United-States  \n",
            "1         Male      0.000000           0.0  0.122449   United-States  \n",
            "2         Male      0.000000           0.0  0.397959   United-States  \n",
            "3         Male      0.000000           0.0  0.397959   United-States  \n",
            "4       Female      0.000000           0.0  0.397959            Cuba  \n",
            "...        ...           ...           ...       ...             ...  \n",
            "32556   Female      0.000000           0.0  0.377551   United-States  \n",
            "32557     Male      0.000000           0.0  0.397959   United-States  \n",
            "32558   Female      0.000000           0.0  0.397959   United-States  \n",
            "32559     Male      0.000000           0.0  0.193878   United-States  \n",
            "32560   Female      0.150242           0.0  0.397959   United-States  \n",
            "\n",
            "[32561 rows x 14 columns]\n"
          ]
        },
        {
          "output_type": "stream",
          "name": "stderr",
          "text": [
            "<ipython-input-14-f0f9bea2b611>:11: FutureWarning: In a future version of pandas all arguments of DataFrame.drop except for the argument 'labels' will be keyword-only.\n",
            "  newData = data.drop(['C'], 1)\n"
          ]
        }
      ]
    },
    {
      "cell_type": "code",
      "source": [
        "def encode_data(data, categorical_data):\n",
        "    encoded_data = pd.get_dummies(data, columns = categorical_data)\n",
        "    cat_columns = encoded_data.select_dtypes(['object']).columns\n",
        "    encoded_data[cat_columns] = encoded_data[cat_columns].apply(lambda x: pd.factorize(x)[0])\n",
        "    return encoded_data\n",
        "\n",
        "list_n = encode_data(newData,lista_categoricos)"
      ],
      "metadata": {
        "id": "X2VlztjDVbQm"
      },
      "execution_count": null,
      "outputs": []
    },
    {
      "cell_type": "code",
      "source": [
        "#lista_categoricos = ['Workclass', 'Education', 'Marital-status', 'Occupation', 'Relationship', 'Race', 'Sex', 'Country']\n",
        "#lista_numericos = ['Age', 'Fnlwgt','Education-num','Capital-gain','Capital-loss', 'Hpw']\n",
        "newData = newData.drop(['Workclass'], 1)\n",
        "newData = newData.drop(['Education'], 1)\n",
        "newData = newData.drop(['Marital-status'], 1)\n",
        "newData = newData.drop(['Occupation'], 1)\n",
        "newData = newData.drop(['Relationship'], 1)\n",
        "newData = newData.drop(['Race'], 1)\n",
        "newData = newData.drop(['Sex'], 1)\n",
        "newData = newData.drop(['Country'], 1)\n",
        "print(newData)"
      ],
      "metadata": {
        "colab": {
          "base_uri": "https://localhost:8080/"
        },
        "id": "Eh-PK0sWaKa8",
        "outputId": "271267cf-c98b-4251-8ac2-2b740b0f2f7c"
      },
      "execution_count": null,
      "outputs": [
        {
          "output_type": "stream",
          "name": "stdout",
          "text": [
            "            Age    Fnlwgt  Education-num  Capital-gain  Capital-loss       Hpw\n",
            "0      0.301370  0.044302       0.800000      0.021740           0.0  0.397959\n",
            "1      0.452055  0.048238       0.800000      0.000000           0.0  0.122449\n",
            "2      0.287671  0.138113       0.533333      0.000000           0.0  0.397959\n",
            "3      0.493151  0.151068       0.400000      0.000000           0.0  0.397959\n",
            "4      0.150685  0.221488       0.800000      0.000000           0.0  0.397959\n",
            "...         ...       ...            ...           ...           ...       ...\n",
            "32556  0.136986  0.166404       0.733333      0.000000           0.0  0.377551\n",
            "32557  0.315068  0.096500       0.533333      0.000000           0.0  0.397959\n",
            "32558  0.561644  0.094827       0.533333      0.000000           0.0  0.397959\n",
            "32559  0.068493  0.128499       0.533333      0.000000           0.0  0.193878\n",
            "32560  0.479452  0.187203       0.533333      0.150242           0.0  0.397959\n",
            "\n",
            "[32561 rows x 6 columns]\n"
          ]
        },
        {
          "output_type": "stream",
          "name": "stderr",
          "text": [
            "<ipython-input-16-2b7c32b3fe88>:3: FutureWarning: In a future version of pandas all arguments of DataFrame.drop except for the argument 'labels' will be keyword-only.\n",
            "  newData = newData.drop(['Workclass'], 1)\n",
            "<ipython-input-16-2b7c32b3fe88>:4: FutureWarning: In a future version of pandas all arguments of DataFrame.drop except for the argument 'labels' will be keyword-only.\n",
            "  newData = newData.drop(['Education'], 1)\n",
            "<ipython-input-16-2b7c32b3fe88>:5: FutureWarning: In a future version of pandas all arguments of DataFrame.drop except for the argument 'labels' will be keyword-only.\n",
            "  newData = newData.drop(['Marital-status'], 1)\n",
            "<ipython-input-16-2b7c32b3fe88>:6: FutureWarning: In a future version of pandas all arguments of DataFrame.drop except for the argument 'labels' will be keyword-only.\n",
            "  newData = newData.drop(['Occupation'], 1)\n",
            "<ipython-input-16-2b7c32b3fe88>:7: FutureWarning: In a future version of pandas all arguments of DataFrame.drop except for the argument 'labels' will be keyword-only.\n",
            "  newData = newData.drop(['Relationship'], 1)\n",
            "<ipython-input-16-2b7c32b3fe88>:8: FutureWarning: In a future version of pandas all arguments of DataFrame.drop except for the argument 'labels' will be keyword-only.\n",
            "  newData = newData.drop(['Race'], 1)\n",
            "<ipython-input-16-2b7c32b3fe88>:9: FutureWarning: In a future version of pandas all arguments of DataFrame.drop except for the argument 'labels' will be keyword-only.\n",
            "  newData = newData.drop(['Sex'], 1)\n",
            "<ipython-input-16-2b7c32b3fe88>:10: FutureWarning: In a future version of pandas all arguments of DataFrame.drop except for the argument 'labels' will be keyword-only.\n",
            "  newData = newData.drop(['Country'], 1)\n"
          ]
        }
      ]
    },
    {
      "cell_type": "code",
      "source": [
        "newData = pd.concat([newData,list_n] , axis = 1)"
      ],
      "metadata": {
        "id": "AGqIWmJ2b0rP"
      },
      "execution_count": null,
      "outputs": []
    },
    {
      "cell_type": "code",
      "source": [
        "#lista_categoricos = ['Workclass', 'Education', 'Marital-status', 'Occupation', 'Relationship', 'Race', 'Sex', 'Country']\n",
        "'''\n",
        "newData['Workclass'], uniques = pd.factorize(newData['Workclass'])\n",
        "newData['Education'], uniques = pd.factorize(newData['Education'])\n",
        "newData['Marital-status'], uniques = pd.factorize(newData['Marital-status'])\n",
        "newData['Occupation'], uniques = pd.factorize(newData['Occupation'])\n",
        "newData['Relationship'], uniques = pd.factorize(newData['Relationship'])\n",
        "newData['Race'], uniques = pd.factorize(newData['Race'])\n",
        "newData['Sex'], uniques = pd.factorize(newData['Sex'])\n",
        "newData['Country'], uniques = pd.factorize(newData['Country'])\n",
        "\n",
        "sex_cat = pd.get_dummies(titanic[[\"sex\", \"embarked\"]])\n",
        "sex_cat.head()\n",
        "\n",
        "'''\n",
        "#wk = pd.get_dummies(newData['Workclass'])\n",
        "'''\n",
        "newData['Education'] = pd.get_dummies('Education')\n",
        "newData['Marital-status'] = pd.get_dummies('Marital-status')\n",
        "newData['Occupation'] = pd.get_dummies('Occupation')\n",
        "newData['Relationship'] = pd.get_dummies('Relationship')\n",
        "newData['Race'] = pd.get_dummies('Race')\n",
        "newData['Sex'] = pd.get_dummies('Sex')\n",
        "newData['Country'] = pd.get_dummies('Country')\n",
        "'''"
      ],
      "metadata": {
        "id": "RpYE-KfMaiaI",
        "colab": {
          "base_uri": "https://localhost:8080/",
          "height": 70
        },
        "outputId": "29643a12-9d48-41f9-b93c-3c328ba10b72"
      },
      "execution_count": null,
      "outputs": [
        {
          "output_type": "execute_result",
          "data": {
            "text/plain": [
              "\"\\nnewData['Education'] = pd.get_dummies('Education')\\nnewData['Marital-status'] = pd.get_dummies('Marital-status')\\nnewData['Occupation'] = pd.get_dummies('Occupation')\\nnewData['Relationship'] = pd.get_dummies('Relationship')\\nnewData['Race'] = pd.get_dummies('Race')\\nnewData['Sex'] = pd.get_dummies('Sex')\\nnewData['Country'] = pd.get_dummies('Country')\\n\""
            ],
            "application/vnd.google.colaboratory.intrinsic+json": {
              "type": "string"
            }
          },
          "metadata": {},
          "execution_count": 18
        }
      ]
    },
    {
      "cell_type": "code",
      "source": [
        "print(newData)"
      ],
      "metadata": {
        "colab": {
          "base_uri": "https://localhost:8080/"
        },
        "id": "t-LzUTGoQKY5",
        "outputId": "223e3d94-2494-43f7-8570-34bd966c5586"
      },
      "execution_count": null,
      "outputs": [
        {
          "output_type": "stream",
          "name": "stdout",
          "text": [
            "            Age    Fnlwgt  Education-num  Capital-gain  Capital-loss  \\\n",
            "0      0.301370  0.044302       0.800000      0.021740           0.0   \n",
            "1      0.452055  0.048238       0.800000      0.000000           0.0   \n",
            "2      0.287671  0.138113       0.533333      0.000000           0.0   \n",
            "3      0.493151  0.151068       0.400000      0.000000           0.0   \n",
            "4      0.150685  0.221488       0.800000      0.000000           0.0   \n",
            "...         ...       ...            ...           ...           ...   \n",
            "32556  0.136986  0.166404       0.733333      0.000000           0.0   \n",
            "32557  0.315068  0.096500       0.533333      0.000000           0.0   \n",
            "32558  0.561644  0.094827       0.533333      0.000000           0.0   \n",
            "32559  0.068493  0.128499       0.533333      0.000000           0.0   \n",
            "32560  0.479452  0.187203       0.533333      0.150242           0.0   \n",
            "\n",
            "            Hpw       Age    Fnlwgt  Education-num  Capital-gain  ...  \\\n",
            "0      0.397959  0.301370  0.044302       0.800000      0.021740  ...   \n",
            "1      0.122449  0.452055  0.048238       0.800000      0.000000  ...   \n",
            "2      0.397959  0.287671  0.138113       0.533333      0.000000  ...   \n",
            "3      0.397959  0.493151  0.151068       0.400000      0.000000  ...   \n",
            "4      0.397959  0.150685  0.221488       0.800000      0.000000  ...   \n",
            "...         ...       ...       ...            ...           ...  ...   \n",
            "32556  0.377551  0.136986  0.166404       0.733333      0.000000  ...   \n",
            "32557  0.397959  0.315068  0.096500       0.533333      0.000000  ...   \n",
            "32558  0.397959  0.561644  0.094827       0.533333      0.000000  ...   \n",
            "32559  0.193878  0.068493  0.128499       0.533333      0.000000  ...   \n",
            "32560  0.397959  0.479452  0.187203       0.533333      0.150242  ...   \n",
            "\n",
            "       Country_ Portugal  Country_ Puerto-Rico  Country_ Scotland  \\\n",
            "0                      0                     0                  0   \n",
            "1                      0                     0                  0   \n",
            "2                      0                     0                  0   \n",
            "3                      0                     0                  0   \n",
            "4                      0                     0                  0   \n",
            "...                  ...                   ...                ...   \n",
            "32556                  0                     0                  0   \n",
            "32557                  0                     0                  0   \n",
            "32558                  0                     0                  0   \n",
            "32559                  0                     0                  0   \n",
            "32560                  0                     0                  0   \n",
            "\n",
            "       Country_ South  Country_ Taiwan  Country_ Thailand  \\\n",
            "0                   0                0                  0   \n",
            "1                   0                0                  0   \n",
            "2                   0                0                  0   \n",
            "3                   0                0                  0   \n",
            "4                   0                0                  0   \n",
            "...               ...              ...                ...   \n",
            "32556               0                0                  0   \n",
            "32557               0                0                  0   \n",
            "32558               0                0                  0   \n",
            "32559               0                0                  0   \n",
            "32560               0                0                  0   \n",
            "\n",
            "       Country_ Trinadad&Tobago  Country_ United-States  Country_ Vietnam  \\\n",
            "0                             0                       1                 0   \n",
            "1                             0                       1                 0   \n",
            "2                             0                       1                 0   \n",
            "3                             0                       1                 0   \n",
            "4                             0                       0                 0   \n",
            "...                         ...                     ...               ...   \n",
            "32556                         0                       1                 0   \n",
            "32557                         0                       1                 0   \n",
            "32558                         0                       1                 0   \n",
            "32559                         0                       1                 0   \n",
            "32560                         0                       1                 0   \n",
            "\n",
            "       Country_ Yugoslavia  \n",
            "0                        0  \n",
            "1                        0  \n",
            "2                        0  \n",
            "3                        0  \n",
            "4                        0  \n",
            "...                    ...  \n",
            "32556                    0  \n",
            "32557                    0  \n",
            "32558                    0  \n",
            "32559                    0  \n",
            "32560                    0  \n",
            "\n",
            "[32561 rows x 111 columns]\n"
          ]
        }
      ]
    },
    {
      "cell_type": "markdown",
      "source": [
        "# **Definicion de datos para el modelo**\n"
      ],
      "metadata": {
        "id": "YWyt9aMjUFaB"
      }
    },
    {
      "cell_type": "code",
      "source": [
        "X = np.array(newData)\n",
        "y = np.array(data['C'])"
      ],
      "metadata": {
        "id": "6z31qmJqTidr"
      },
      "execution_count": null,
      "outputs": []
    },
    {
      "cell_type": "code",
      "source": [
        "print('X:',X)\n",
        "print('y:',y)"
      ],
      "metadata": {
        "colab": {
          "base_uri": "https://localhost:8080/"
        },
        "id": "VTATi9CdT7pS",
        "outputId": "457d337e-6d60-44c2-8c2b-36ed776748de"
      },
      "execution_count": null,
      "outputs": [
        {
          "output_type": "stream",
          "name": "stdout",
          "text": [
            "X: [[0.30136986 0.0443019  0.8        ... 1.         0.         0.        ]\n",
            " [0.45205479 0.0482376  0.8        ... 1.         0.         0.        ]\n",
            " [0.28767123 0.13811345 0.53333333 ... 1.         0.         0.        ]\n",
            " ...\n",
            " [0.56164384 0.09482688 0.53333333 ... 1.         0.         0.        ]\n",
            " [0.06849315 0.12849934 0.53333333 ... 1.         0.         0.        ]\n",
            " [0.47945205 0.18720338 0.53333333 ... 1.         0.         0.        ]]\n",
            "y: [0 0 0 ... 0 0 1]\n"
          ]
        }
      ]
    },
    {
      "cell_type": "code",
      "source": [
        "validation_size = 0.20\n",
        "seed = 7\n",
        "X_train, X_validation, Y_train, Y_validation = train_test_split(X, y, test_size=validation_size, random_state=seed)"
      ],
      "metadata": {
        "id": "C9EDN5CFTlJm"
      },
      "execution_count": null,
      "outputs": []
    },
    {
      "cell_type": "markdown",
      "source": [
        "# **Regresion logistica con balanceo en el dataset**"
      ],
      "metadata": {
        "id": "KB0eCNvyUcPx"
      }
    },
    {
      "cell_type": "code",
      "source": [
        "from sklearn.model_selection import train_test_split\n",
        "from sklearn import linear_model\n",
        "from sklearn import model_selection\n",
        "from sklearn.metrics import f1_score\n",
        "from sklearn.metrics import classification_report\n",
        "from sklearn.preprocessing import StandardScaler\n",
        "#clf = LogisticRegression(class_weight=\"balanced\")\n",
        "def run_model_balanced(X_train, X_test, y_train, y_test):\n",
        "    clf = LogisticRegression()\n",
        "    clf.fit(X_train, y_train)\n",
        "    return clf\n"
      ],
      "metadata": {
        "id": "GxaknXj3U1CY"
      },
      "execution_count": null,
      "outputs": []
    },
    {
      "cell_type": "code",
      "source": [
        "model = run_model_balanced(X_train, X_validation, Y_train, Y_validation)"
      ],
      "metadata": {
        "id": "vDCe87N7U6CC",
        "colab": {
          "base_uri": "https://localhost:8080/"
        },
        "outputId": "9c85d8a6-485d-4d4d-d543-de2a1c3f02e7"
      },
      "execution_count": null,
      "outputs": [
        {
          "output_type": "stream",
          "name": "stderr",
          "text": [
            "/usr/local/lib/python3.9/dist-packages/sklearn/linear_model/_logistic.py:458: ConvergenceWarning: lbfgs failed to converge (status=1):\n",
            "STOP: TOTAL NO. of ITERATIONS REACHED LIMIT.\n",
            "\n",
            "Increase the number of iterations (max_iter) or scale the data as shown in:\n",
            "    https://scikit-learn.org/stable/modules/preprocessing.html\n",
            "Please also refer to the documentation for alternative solver options:\n",
            "    https://scikit-learn.org/stable/modules/linear_model.html#logistic-regression\n",
            "  n_iter_i = _check_optimize_result(\n"
          ]
        }
      ]
    },
    {
      "cell_type": "code",
      "source": [
        "from imblearn.under_sampling import NearMiss\n",
        "from imblearn.over_sampling import RandomOverSampler\n",
        "from imblearn.under_sampling import RandomUnderSampler\n",
        "\n",
        "rus = RandomUnderSampler()\n",
        "nm = NearMiss()\n",
        "dataRus, targetRus = rus.fit_resample(X, y)\n",
        "print(len(dataRus))\n",
        "print(len(targetRus))\n",
        "validation_size = 0.20\n",
        "seed = 7\n",
        "X_train2, X_validation2, Y_train2, Y_validation2 = train_test_split(dataRus, targetRus, test_size=validation_size, random_state=seed)\n",
        "\n",
        "model = run_model_balanced(X_train2, X_validation2, Y_train2, Y_validation2)\n",
        "\n",
        "predictions = model.predict(X_validation2)\n",
        "print(f1_score(Y_validation2, predictions))\n",
        "\n",
        "print(classification_report(Y_validation2, predictions))"
      ],
      "metadata": {
        "colab": {
          "base_uri": "https://localhost:8080/"
        },
        "id": "xLizl3meUbj2",
        "outputId": "b60ea020-1bc4-4698-e3f6-a613c4bcd1f7"
      },
      "execution_count": null,
      "outputs": [
        {
          "output_type": "stream",
          "name": "stdout",
          "text": [
            "15682\n",
            "15682\n",
            "0.8351846292404683\n",
            "              precision    recall  f1-score   support\n",
            "\n",
            "           0       0.84      0.78      0.81      1525\n",
            "           1       0.81      0.86      0.84      1612\n",
            "\n",
            "    accuracy                           0.82      3137\n",
            "   macro avg       0.83      0.82      0.82      3137\n",
            "weighted avg       0.83      0.82      0.82      3137\n",
            "\n"
          ]
        },
        {
          "output_type": "stream",
          "name": "stderr",
          "text": [
            "/usr/local/lib/python3.9/dist-packages/sklearn/linear_model/_logistic.py:458: ConvergenceWarning: lbfgs failed to converge (status=1):\n",
            "STOP: TOTAL NO. of ITERATIONS REACHED LIMIT.\n",
            "\n",
            "Increase the number of iterations (max_iter) or scale the data as shown in:\n",
            "    https://scikit-learn.org/stable/modules/preprocessing.html\n",
            "Please also refer to the documentation for alternative solver options:\n",
            "    https://scikit-learn.org/stable/modules/linear_model.html#logistic-regression\n",
            "  n_iter_i = _check_optimize_result(\n"
          ]
        }
      ]
    },
    {
      "cell_type": "code",
      "source": [
        "from sklearn.metrics import ConfusionMatrixDisplay"
      ],
      "metadata": {
        "id": "1-g74S57VOii"
      },
      "execution_count": null,
      "outputs": []
    },
    {
      "cell_type": "code",
      "source": [
        "cm = metrics.confusion_matrix(predictions,Y_validation2)\n",
        "disp = ConfusionMatrixDisplay(cm)\n",
        "disp.plot()"
      ],
      "metadata": {
        "colab": {
          "base_uri": "https://localhost:8080/",
          "height": 296
        },
        "id": "gxM0thjqWmj8",
        "outputId": "df4ed45a-b034-4c63-97ad-18e23248161b"
      },
      "execution_count": null,
      "outputs": [
        {
          "output_type": "execute_result",
          "data": {
            "text/plain": [
              "<sklearn.metrics._plot.confusion_matrix.ConfusionMatrixDisplay at 0x7f4e367d4430>"
            ]
          },
          "metadata": {},
          "execution_count": 27
        },
        {
          "output_type": "display_data",
          "data": {
            "text/plain": [
              "<Figure size 432x288 with 2 Axes>"
            ],
            "image/png": "[encoded data removed]"
          },
          "metadata": {
            "needs_background": "light"
          }
        }
      ]
    },
    {
      "cell_type": "markdown",
      "source": [
        "# **KNN K=5**"
      ],
      "metadata": {
        "id": "R7ZdMhEAYB2E"
      }
    },
    {
      "cell_type": "code",
      "source": [
        "from sklearn.neighbors import KNeighborsClassifier"
      ],
      "metadata": {
        "id": "Czw1E2r2Y9nQ"
      },
      "execution_count": null,
      "outputs": []
    },
    {
      "cell_type": "code",
      "source": [
        "n_neighbors = 5\n",
        "knn = KNeighborsClassifier(n_neighbors)\n",
        "knn.fit(X_train2, Y_train2)\n"
      ],
      "metadata": {
        "colab": {
          "base_uri": "https://localhost:8080/",
          "height": 74
        },
        "id": "lqKBOID1X-GX",
        "outputId": "3a0642d1-25ff-4af0-93ab-b5eb41b3773a"
      },
      "execution_count": null,
      "outputs": [
        {
          "output_type": "execute_result",
          "data": {
            "text/plain": [
              "KNeighborsClassifier()"
            ],
            "text/html": [
              "<style>#sk-container-id-1 {color: black;background-color: white;}#sk-container-id-1 pre{padding: 0;}#sk-container-id-1 div.sk-toggleable {background-color: white;}#sk-container-id-1 label.sk-toggleable__label {cursor: pointer;display: block;width: 100%;margin-bottom: 0;padding: 0.3em;box-sizing: border-box;text-align: center;}#sk-container-id-1 label.sk-toggleable__label-arrow:before {content: \"▸\";float: left;margin-right: 0.25em;color: #696969;}#sk-container-id-1 label.sk-toggleable__label-arrow:hover:before {color: black;}#sk-container-id-1 div.sk-estimator:hover label.sk-toggleable__label-arrow:before {color: black;}#sk-container-id-1 div.sk-toggleable__content {max-height: 0;max-width: 0;overflow: hidden;text-align: left;background-color: #f0f8ff;}#sk-container-id-1 div.sk-toggleable__content pre {margin: 0.2em;color: black;border-radius: 0.25em;background-color: #f0f8ff;}#sk-container-id-1 input.sk-toggleable__control:checked~div.sk-toggleable__content {max-height: 200px;max-width: 100%;overflow: auto;}#sk-container-id-1 input.sk-toggleable__control:checked~label.sk-toggleable__label-arrow:before {content: \"▾\";}#sk-container-id-1 div.sk-estimator input.sk-toggleable__control:checked~label.sk-toggleable__label {background-color: #d4ebff;}#sk-container-id-1 div.sk-label input.sk-toggleable__control:checked~label.sk-toggleable__label {background-color: #d4ebff;}#sk-container-id-1 input.sk-hidden--visually {border: 0;clip: rect(1px 1px 1px 1px);clip: rect(1px, 1px, 1px, 1px);height: 1px;margin: -1px;overflow: hidden;padding: 0;position: absolute;width: 1px;}#sk-container-id-1 div.sk-estimator {font-family: monospace;background-color: #f0f8ff;border: 1px dotted black;border-radius: 0.25em;box-sizing: border-box;margin-bottom: 0.5em;}#sk-container-id-1 div.sk-estimator:hover {background-color: #d4ebff;}#sk-container-id-1 div.sk-parallel-item::after {content: \"\";width: 100%;border-bottom: 1px solid gray;flex-grow: 1;}#sk-container-id-1 div.sk-label:hover label.sk-toggleable__label {background-color: #d4ebff;}#sk-container-id-1 div.sk-serial::before {content: \"\";position: absolute;border-left: 1px solid gray;box-sizing: border-box;top: 0;bottom: 0;left: 50%;z-index: 0;}#sk-container-id-1 div.sk-serial {display: flex;flex-direction: column;align-items: center;background-color: white;padding-right: 0.2em;padding-left: 0.2em;position: relative;}#sk-container-id-1 div.sk-item {position: relative;z-index: 1;}#sk-container-id-1 div.sk-parallel {display: flex;align-items: stretch;justify-content: center;background-color: white;position: relative;}#sk-container-id-1 div.sk-item::before, #sk-container-id-1 div.sk-parallel-item::before {content: \"\";position: absolute;border-left: 1px solid gray;box-sizing: border-box;top: 0;bottom: 0;left: 50%;z-index: -1;}#sk-container-id-1 div.sk-parallel-item {display: flex;flex-direction: column;z-index: 1;position: relative;background-color: white;}#sk-container-id-1 div.sk-parallel-item:first-child::after {align-self: flex-end;width: 50%;}#sk-container-id-1 div.sk-parallel-item:last-child::after {align-self: flex-start;width: 50%;}#sk-container-id-1 div.sk-parallel-item:only-child::after {width: 0;}#sk-container-id-1 div.sk-dashed-wrapped {border: 1px dashed gray;margin: 0 0.4em 0.5em 0.4em;box-sizing: border-box;padding-bottom: 0.4em;background-color: white;}#sk-container-id-1 div.sk-label label {font-family: monospace;font-weight: bold;display: inline-block;line-height: 1.2em;}#sk-container-id-1 div.sk-label-container {text-align: center;}#sk-container-id-1 div.sk-container {/* jupyter's `normalize.less` sets `[hidden] { display: none; }` but bootstrap.min.css set `[hidden] { display: none !important; }` so we also need the `!important` here to be able to override the default hidden behavior on the sphinx rendered scikit-learn.org. See: https://github.com/scikit-learn/scikit-learn/issues/21755 */display: inline-block !important;position: relative;}#sk-container-id-1 div.sk-text-repr-fallback {display: none;}</style><div id=\"sk-container-id-1\" class=\"sk-top-container\"><div class=\"sk-text-repr-fallback\"><pre>KNeighborsClassifier()</pre><b>In a Jupyter environment, please rerun this cell to show the HTML representation or trust the notebook. <br />On GitHub, the HTML representation is unable to render, please try loading this page with nbviewer.org.</b></div><div class=\"sk-container\" hidden><div class=\"sk-item\"><div class=\"sk-estimator sk-toggleable\"><input class=\"sk-toggleable__control sk-hidden--visually\" id=\"sk-estimator-id-1\" type=\"checkbox\" checked><label for=\"sk-estimator-id-1\" class=\"sk-toggleable__label sk-toggleable__label-arrow\">KNeighborsClassifier</label><div class=\"sk-toggleable__content\"><pre>KNeighborsClassifier()</pre></div></div></div></div></div>"
            ]
          },
          "metadata": {},
          "execution_count": 29
        }
      ]
    },
    {
      "cell_type": "code",
      "source": [
        "predict = knn.predict(X_validation2)"
      ],
      "metadata": {
        "id": "6eKOQ6Llacr0"
      },
      "execution_count": null,
      "outputs": []
    },
    {
      "cell_type": "code",
      "source": [
        "print(f1_score(Y_validation2, predict))\n",
        "print(classification_report(Y_validation2, predict))"
      ],
      "metadata": {
        "colab": {
          "base_uri": "https://localhost:8080/"
        },
        "id": "jTCDJrczaxAC",
        "outputId": "582c0475-4c1d-414b-fbf5-011acc365678"
      },
      "execution_count": null,
      "outputs": [
        {
          "output_type": "stream",
          "name": "stdout",
          "text": [
            "0.8099022004889976\n",
            "              precision    recall  f1-score   support\n",
            "\n",
            "           0       0.81      0.78      0.79      1525\n",
            "           1       0.80      0.82      0.81      1612\n",
            "\n",
            "    accuracy                           0.80      3137\n",
            "   macro avg       0.80      0.80      0.80      3137\n",
            "weighted avg       0.80      0.80      0.80      3137\n",
            "\n"
          ]
        }
      ]
    },
    {
      "cell_type": "code",
      "source": [
        "cm = metrics.confusion_matrix(predict,Y_validation2)\n",
        "disp2 = ConfusionMatrixDisplay(cm)\n",
        "disp2.plot()"
      ],
      "metadata": {
        "colab": {
          "base_uri": "https://localhost:8080/",
          "height": 296
        },
        "id": "KYNXnM78dRsO",
        "outputId": "ba45c6b1-e13c-4774-9168-bb0eee775da0"
      },
      "execution_count": null,
      "outputs": [
        {
          "output_type": "execute_result",
          "data": {
            "text/plain": [
              "<sklearn.metrics._plot.confusion_matrix.ConfusionMatrixDisplay at 0x7f4e350cddc0>"
            ]
          },
          "metadata": {},
          "execution_count": 32
        },
        {
          "output_type": "display_data",
          "data": {
            "text/plain": [
              "<Figure size 432x288 with 2 Axes>"
            ],
            "image/png": "[encoded data removed]"
          },
          "metadata": {
            "needs_background": "light"
          }
        }
      ]
    },
    {
      "cell_type": "markdown",
      "source": [
        "# **Discriminante lineal**"
      ],
      "metadata": {
        "id": "hKrrGEindsMs"
      }
    },
    {
      "cell_type": "code",
      "source": [
        "from sklearn.discriminant_analysis import LinearDiscriminantAnalysis"
      ],
      "metadata": {
        "id": "BFh4PfB7drux"
      },
      "execution_count": null,
      "outputs": []
    },
    {
      "cell_type": "code",
      "source": [
        "clf = LinearDiscriminantAnalysis()\n",
        "clf.fit(X_train2, Y_train2)"
      ],
      "metadata": {
        "colab": {
          "base_uri": "https://localhost:8080/",
          "height": 74
        },
        "id": "MOGFmFIWeA_Y",
        "outputId": "7cbf2ec6-e0c5-4f82-b1de-1a9a8618ab3f"
      },
      "execution_count": null,
      "outputs": [
        {
          "output_type": "execute_result",
          "data": {
            "text/plain": [
              "LinearDiscriminantAnalysis()"
            ],
            "text/html": [
              "<style>#sk-container-id-2 {color: black;background-color: white;}#sk-container-id-2 pre{padding: 0;}#sk-container-id-2 div.sk-toggleable {background-color: white;}#sk-container-id-2 label.sk-toggleable__label {cursor: pointer;display: block;width: 100%;margin-bottom: 0;padding: 0.3em;box-sizing: border-box;text-align: center;}#sk-container-id-2 label.sk-toggleable__label-arrow:before {content: \"▸\";float: left;margin-right: 0.25em;color: #696969;}#sk-container-id-2 label.sk-toggleable__label-arrow:hover:before {color: black;}#sk-container-id-2 div.sk-estimator:hover label.sk-toggleable__label-arrow:before {color: black;}#sk-container-id-2 div.sk-toggleable__content {max-height: 0;max-width: 0;overflow: hidden;text-align: left;background-color: #f0f8ff;}#sk-container-id-2 div.sk-toggleable__content pre {margin: 0.2em;color: black;border-radius: 0.25em;background-color: #f0f8ff;}#sk-container-id-2 input.sk-toggleable__control:checked~div.sk-toggleable__content {max-height: 200px;max-width: 100%;overflow: auto;}#sk-container-id-2 input.sk-toggleable__control:checked~label.sk-toggleable__label-arrow:before {content: \"▾\";}#sk-container-id-2 div.sk-estimator input.sk-toggleable__control:checked~label.sk-toggleable__label {background-color: #d4ebff;}#sk-container-id-2 div.sk-label input.sk-toggleable__control:checked~label.sk-toggleable__label {background-color: #d4ebff;}#sk-container-id-2 input.sk-hidden--visually {border: 0;clip: rect(1px 1px 1px 1px);clip: rect(1px, 1px, 1px, 1px);height: 1px;margin: -1px;overflow: hidden;padding: 0;position: absolute;width: 1px;}#sk-container-id-2 div.sk-estimator {font-family: monospace;background-color: #f0f8ff;border: 1px dotted black;border-radius: 0.25em;box-sizing: border-box;margin-bottom: 0.5em;}#sk-container-id-2 div.sk-estimator:hover {background-color: #d4ebff;}#sk-container-id-2 div.sk-parallel-item::after {content: \"\";width: 100%;border-bottom: 1px solid gray;flex-grow: 1;}#sk-container-id-2 div.sk-label:hover label.sk-toggleable__label {background-color: #d4ebff;}#sk-container-id-2 div.sk-serial::before {content: \"\";position: absolute;border-left: 1px solid gray;box-sizing: border-box;top: 0;bottom: 0;left: 50%;z-index: 0;}#sk-container-id-2 div.sk-serial {display: flex;flex-direction: column;align-items: center;background-color: white;padding-right: 0.2em;padding-left: 0.2em;position: relative;}#sk-container-id-2 div.sk-item {position: relative;z-index: 1;}#sk-container-id-2 div.sk-parallel {display: flex;align-items: stretch;justify-content: center;background-color: white;position: relative;}#sk-container-id-2 div.sk-item::before, #sk-container-id-2 div.sk-parallel-item::before {content: \"\";position: absolute;border-left: 1px solid gray;box-sizing: border-box;top: 0;bottom: 0;left: 50%;z-index: -1;}#sk-container-id-2 div.sk-parallel-item {display: flex;flex-direction: column;z-index: 1;position: relative;background-color: white;}#sk-container-id-2 div.sk-parallel-item:first-child::after {align-self: flex-end;width: 50%;}#sk-container-id-2 div.sk-parallel-item:last-child::after {align-self: flex-start;width: 50%;}#sk-container-id-2 div.sk-parallel-item:only-child::after {width: 0;}#sk-container-id-2 div.sk-dashed-wrapped {border: 1px dashed gray;margin: 0 0.4em 0.5em 0.4em;box-sizing: border-box;padding-bottom: 0.4em;background-color: white;}#sk-container-id-2 div.sk-label label {font-family: monospace;font-weight: bold;display: inline-block;line-height: 1.2em;}#sk-container-id-2 div.sk-label-container {text-align: center;}#sk-container-id-2 div.sk-container {/* jupyter's `normalize.less` sets `[hidden] { display: none; }` but bootstrap.min.css set `[hidden] { display: none !important; }` so we also need the `!important` here to be able to override the default hidden behavior on the sphinx rendered scikit-learn.org. See: https://github.com/scikit-learn/scikit-learn/issues/21755 */display: inline-block !important;position: relative;}#sk-container-id-2 div.sk-text-repr-fallback {display: none;}</style><div id=\"sk-container-id-2\" class=\"sk-top-container\"><div class=\"sk-text-repr-fallback\"><pre>LinearDiscriminantAnalysis()</pre><b>In a Jupyter environment, please rerun this cell to show the HTML representation or trust the notebook. <br />On GitHub, the HTML representation is unable to render, please try loading this page with nbviewer.org.</b></div><div class=\"sk-container\" hidden><div class=\"sk-item\"><div class=\"sk-estimator sk-toggleable\"><input class=\"sk-toggleable__control sk-hidden--visually\" id=\"sk-estimator-id-2\" type=\"checkbox\" checked><label for=\"sk-estimator-id-2\" class=\"sk-toggleable__label sk-toggleable__label-arrow\">LinearDiscriminantAnalysis</label><div class=\"sk-toggleable__content\"><pre>LinearDiscriminantAnalysis()</pre></div></div></div></div></div>"
            ]
          },
          "metadata": {},
          "execution_count": 34
        }
      ]
    },
    {
      "cell_type": "code",
      "source": [
        "predict2 = clf.predict(X_validation2)"
      ],
      "metadata": {
        "id": "dwtt2eo9eMs5"
      },
      "execution_count": null,
      "outputs": []
    },
    {
      "cell_type": "code",
      "source": [
        "print(f1_score(Y_validation2, predict2))\n",
        "print(classification_report(Y_validation2, predict2))"
      ],
      "metadata": {
        "colab": {
          "base_uri": "https://localhost:8080/"
        },
        "id": "q-hWwry7eo3x",
        "outputId": "7b50025c-4441-4add-dfe8-32aeccd214d0"
      },
      "execution_count": null,
      "outputs": [
        {
          "output_type": "stream",
          "name": "stdout",
          "text": [
            "0.8198757763975156\n",
            "              precision    recall  f1-score   support\n",
            "\n",
            "           0       0.83      0.75      0.79      1525\n",
            "           1       0.78      0.86      0.82      1612\n",
            "\n",
            "    accuracy                           0.81      3137\n",
            "   macro avg       0.81      0.80      0.80      3137\n",
            "weighted avg       0.81      0.81      0.81      3137\n",
            "\n"
          ]
        }
      ]
    },
    {
      "cell_type": "code",
      "source": [
        "cm = metrics.confusion_matrix(predict2,Y_validation2)\n",
        "disp3 = ConfusionMatrixDisplay(cm)\n",
        "disp3.plot()"
      ],
      "metadata": {
        "colab": {
          "base_uri": "https://localhost:8080/",
          "height": 296
        },
        "id": "y3DHickpez0M",
        "outputId": "883de052-2be6-4dd4-b145-a9e43de928a4"
      },
      "execution_count": null,
      "outputs": [
        {
          "output_type": "execute_result",
          "data": {
            "text/plain": [
              "<sklearn.metrics._plot.confusion_matrix.ConfusionMatrixDisplay at 0x7f4e3472fa60>"
            ]
          },
          "metadata": {},
          "execution_count": 37
        },
        {
          "output_type": "display_data",
          "data": {
            "text/plain": [
              "<Figure size 432x288 with 2 Axes>"
            ],
            "image/png": "[encoded data removed]"
          },
          "metadata": {
            "needs_background": "light"
          }
        }
      ]
    },
    {
      "cell_type": "markdown",
      "source": [
        "# **QDA**"
      ],
      "metadata": {
        "id": "xZVBRAqCMKyp"
      }
    },
    {
      "cell_type": "code",
      "source": [
        "from sklearn.discriminant_analysis import QuadraticDiscriminantAnalysis\n",
        "model5 = QuadraticDiscriminantAnalysis()\n",
        "model5.fit(X_train2, Y_train2)\n",
        "predict5 = clf.predict(X_validation2)\n",
        "print(f1_score(Y_validation2, predict5))\n",
        "print(classification_report(Y_validation2, predict5))"
      ],
      "metadata": {
        "id": "9DdE_0sSUk0_",
        "colab": {
          "base_uri": "https://localhost:8080/"
        },
        "outputId": "6c3441eb-2a02-49ea-b6b8-5b5118c572df"
      },
      "execution_count": null,
      "outputs": [
        {
          "output_type": "stream",
          "name": "stderr",
          "text": [
            "/usr/local/lib/python3.9/dist-packages/sklearn/discriminant_analysis.py:926: UserWarning: Variables are collinear\n",
            "  warnings.warn(\"Variables are collinear\")\n"
          ]
        },
        {
          "output_type": "stream",
          "name": "stdout",
          "text": [
            "0.8198757763975156\n",
            "              precision    recall  f1-score   support\n",
            "\n",
            "           0       0.83      0.75      0.79      1525\n",
            "           1       0.78      0.86      0.82      1612\n",
            "\n",
            "    accuracy                           0.81      3137\n",
            "   macro avg       0.81      0.80      0.80      3137\n",
            "weighted avg       0.81      0.81      0.81      3137\n",
            "\n"
          ]
        }
      ]
    },
    {
      "cell_type": "code",
      "source": [
        "cm = metrics.confusion_matrix(predict5,Y_validation2)\n",
        "disp4 = ConfusionMatrixDisplay(cm)\n",
        "disp4.plot()"
      ],
      "metadata": {
        "colab": {
          "base_uri": "https://localhost:8080/",
          "height": 296
        },
        "id": "HMV8ziBQMfe_",
        "outputId": "c4b6dd99-eb2c-43f4-adf1-cf375ef652d0"
      },
      "execution_count": null,
      "outputs": [
        {
          "output_type": "execute_result",
          "data": {
            "text/plain": [
              "<sklearn.metrics._plot.confusion_matrix.ConfusionMatrixDisplay at 0x7f4e346d17f0>"
            ]
          },
          "metadata": {},
          "execution_count": 39
        },
        {
          "output_type": "display_data",
          "data": {
            "text/plain": [
              "<Figure size 432x288 with 2 Axes>"
            ],
            "image/png": "[encoded data removed]"
          },
          "metadata": {
            "needs_background": "light"
          }
        }
      ]
    },
    {
      "cell_type": "markdown",
      "source": [
        "# **SVM**"
      ],
      "metadata": {
        "id": "PhA8J7XAGzq3"
      }
    },
    {
      "cell_type": "code",
      "source": [
        "from sklearn.svm import SVC\n",
        "modelo = SVC()\n",
        "modelo.fit(X_train2, Y_train2)"
      ],
      "metadata": {
        "colab": {
          "base_uri": "https://localhost:8080/",
          "height": 74
        },
        "id": "C-_r5--pG3Bc",
        "outputId": "5c88d536-e1ad-4a85-a1d4-38be7bb813f0"
      },
      "execution_count": null,
      "outputs": [
        {
          "output_type": "execute_result",
          "data": {
            "text/plain": [
              "SVC()"
            ],
            "text/html": [
              "<style>#sk-container-id-3 {color: black;background-color: white;}#sk-container-id-3 pre{padding: 0;}#sk-container-id-3 div.sk-toggleable {background-color: white;}#sk-container-id-3 label.sk-toggleable__label {cursor: pointer;display: block;width: 100%;margin-bottom: 0;padding: 0.3em;box-sizing: border-box;text-align: center;}#sk-container-id-3 label.sk-toggleable__label-arrow:before {content: \"▸\";float: left;margin-right: 0.25em;color: #696969;}#sk-container-id-3 label.sk-toggleable__label-arrow:hover:before {color: black;}#sk-container-id-3 div.sk-estimator:hover label.sk-toggleable__label-arrow:before {color: black;}#sk-container-id-3 div.sk-toggleable__content {max-height: 0;max-width: 0;overflow: hidden;text-align: left;background-color: #f0f8ff;}#sk-container-id-3 div.sk-toggleable__content pre {margin: 0.2em;color: black;border-radius: 0.25em;background-color: #f0f8ff;}#sk-container-id-3 input.sk-toggleable__control:checked~div.sk-toggleable__content {max-height: 200px;max-width: 100%;overflow: auto;}#sk-container-id-3 input.sk-toggleable__control:checked~label.sk-toggleable__label-arrow:before {content: \"▾\";}#sk-container-id-3 div.sk-estimator input.sk-toggleable__control:checked~label.sk-toggleable__label {background-color: #d4ebff;}#sk-container-id-3 div.sk-label input.sk-toggleable__control:checked~label.sk-toggleable__label {background-color: #d4ebff;}#sk-container-id-3 input.sk-hidden--visually {border: 0;clip: rect(1px 1px 1px 1px);clip: rect(1px, 1px, 1px, 1px);height: 1px;margin: -1px;overflow: hidden;padding: 0;position: absolute;width: 1px;}#sk-container-id-3 div.sk-estimator {font-family: monospace;background-color: #f0f8ff;border: 1px dotted black;border-radius: 0.25em;box-sizing: border-box;margin-bottom: 0.5em;}#sk-container-id-3 div.sk-estimator:hover {background-color: #d4ebff;}#sk-container-id-3 div.sk-parallel-item::after {content: \"\";width: 100%;border-bottom: 1px solid gray;flex-grow: 1;}#sk-container-id-3 div.sk-label:hover label.sk-toggleable__label {background-color: #d4ebff;}#sk-container-id-3 div.sk-serial::before {content: \"\";position: absolute;border-left: 1px solid gray;box-sizing: border-box;top: 0;bottom: 0;left: 50%;z-index: 0;}#sk-container-id-3 div.sk-serial {display: flex;flex-direction: column;align-items: center;background-color: white;padding-right: 0.2em;padding-left: 0.2em;position: relative;}#sk-container-id-3 div.sk-item {position: relative;z-index: 1;}#sk-container-id-3 div.sk-parallel {display: flex;align-items: stretch;justify-content: center;background-color: white;position: relative;}#sk-container-id-3 div.sk-item::before, #sk-container-id-3 div.sk-parallel-item::before {content: \"\";position: absolute;border-left: 1px solid gray;box-sizing: border-box;top: 0;bottom: 0;left: 50%;z-index: -1;}#sk-container-id-3 div.sk-parallel-item {display: flex;flex-direction: column;z-index: 1;position: relative;background-color: white;}#sk-container-id-3 div.sk-parallel-item:first-child::after {align-self: flex-end;width: 50%;}#sk-container-id-3 div.sk-parallel-item:last-child::after {align-self: flex-start;width: 50%;}#sk-container-id-3 div.sk-parallel-item:only-child::after {width: 0;}#sk-container-id-3 div.sk-dashed-wrapped {border: 1px dashed gray;margin: 0 0.4em 0.5em 0.4em;box-sizing: border-box;padding-bottom: 0.4em;background-color: white;}#sk-container-id-3 div.sk-label label {font-family: monospace;font-weight: bold;display: inline-block;line-height: 1.2em;}#sk-container-id-3 div.sk-label-container {text-align: center;}#sk-container-id-3 div.sk-container {/* jupyter's `normalize.less` sets `[hidden] { display: none; }` but bootstrap.min.css set `[hidden] { display: none !important; }` so we also need the `!important` here to be able to override the default hidden behavior on the sphinx rendered scikit-learn.org. See: https://github.com/scikit-learn/scikit-learn/issues/21755 */display: inline-block !important;position: relative;}#sk-container-id-3 div.sk-text-repr-fallback {display: none;}</style><div id=\"sk-container-id-3\" class=\"sk-top-container\"><div class=\"sk-text-repr-fallback\"><pre>SVC()</pre><b>In a Jupyter environment, please rerun this cell to show the HTML representation or trust the notebook. <br />On GitHub, the HTML representation is unable to render, please try loading this page with nbviewer.org.</b></div><div class=\"sk-container\" hidden><div class=\"sk-item\"><div class=\"sk-estimator sk-toggleable\"><input class=\"sk-toggleable__control sk-hidden--visually\" id=\"sk-estimator-id-3\" type=\"checkbox\" checked><label for=\"sk-estimator-id-3\" class=\"sk-toggleable__label sk-toggleable__label-arrow\">SVC</label><div class=\"sk-toggleable__content\"><pre>SVC()</pre></div></div></div></div></div>"
            ]
          },
          "metadata": {},
          "execution_count": 40
        }
      ]
    },
    {
      "cell_type": "code",
      "source": [
        "predicciones = modelo.predict(X_validation2)\n",
        "print(f1_score(Y_validation2, predicciones))\n",
        "print(classification_report(Y_validation2, predicciones))"
      ],
      "metadata": {
        "colab": {
          "base_uri": "https://localhost:8080/"
        },
        "id": "lcVPHg56HWOy",
        "outputId": "f52b0513-8118-4c99-a16b-16583eda2414"
      },
      "execution_count": null,
      "outputs": [
        {
          "output_type": "stream",
          "name": "stdout",
          "text": [
            "0.8160475482912333\n",
            "              precision    recall  f1-score   support\n",
            "\n",
            "           0       0.83      0.75      0.79      1525\n",
            "           1       0.78      0.85      0.82      1612\n",
            "\n",
            "    accuracy                           0.80      3137\n",
            "   macro avg       0.81      0.80      0.80      3137\n",
            "weighted avg       0.80      0.80      0.80      3137\n",
            "\n"
          ]
        }
      ]
    },
    {
      "cell_type": "code",
      "source": [
        "cm = metrics.confusion_matrix(predicciones,Y_validation2)\n",
        "disp4 = ConfusionMatrixDisplay(cm)\n",
        "disp4.plot()"
      ],
      "metadata": {
        "colab": {
          "base_uri": "https://localhost:8080/",
          "height": 296
        },
        "id": "wxvAe8bdKsKo",
        "outputId": "701ab3f0-d8dc-40e0-ec0e-cf4c35427a90"
      },
      "execution_count": null,
      "outputs": [
        {
          "output_type": "execute_result",
          "data": {
            "text/plain": [
              "<sklearn.metrics._plot.confusion_matrix.ConfusionMatrixDisplay at 0x7f4e34604b50>"
            ]
          },
          "metadata": {},
          "execution_count": 42
        },
        {
          "output_type": "display_data",
          "data": {
            "text/plain": [
              "<Figure size 432x288 with 2 Axes>"
            ],
            "image/png": "[encoded data removed]"
          },
          "metadata": {
            "needs_background": "light"
          }
        }
      ]
    }
  ]
}